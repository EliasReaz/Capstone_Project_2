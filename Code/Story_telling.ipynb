{
 "cells": [
  {
   "cell_type": "markdown",
   "metadata": {},
   "source": [
    "## Story-telling: \n",
    "\n",
    "## Exploratory data analysis: YouTube videos from the US and UK "
   ]
  },
  {
   "cell_type": "markdown",
   "metadata": {},
   "source": [
    "### Introduction:"
   ]
  },
  {
   "cell_type": "markdown",
   "metadata": {},
   "source": [
    "* YouTube is a video-sharing platform based in California, USA. , Three former employees of PayPal, Chad Hurley, Steve Chen, and Jawed Karim, devised this platform in February 2005. Google bought the site in November 2006. (source: Wikipedia) \n",
    "\n",
    "* YouTube allows users to upload, view, rate, share, add to playlists, report, comment on videos, and subscribe to other users. It offers a wide variety of user-generated and corporate media videos. (source: Wikipedia)"
   ]
  },
  {
   "cell_type": "markdown",
   "metadata": {},
   "source": [
    "### Objectives:"
   ]
  },
  {
   "cell_type": "markdown",
   "metadata": {},
   "source": [
    "* The objective of the project is to compare behavioral patterns of youtube viewers in the US and UK. Details of the trending YouTube videos from the US and the UK, for example, views, comments, likes, and dislikes will be analyzed. \n",
    "\n",
    "* The project aims to find answers to the following questions: how are the top trending videos different in terms of views, categories, likes and dislikes; whether there exists any seasonal pattern in some specific categories; how are videos categories different in the US and UK.\n",
    "\n",
    "* The project covers applications of data loading, data cleaning, exploratory data analysis, and inferential statistics.  \n"
   ]
  },
  {
   "cell_type": "markdown",
   "metadata": {},
   "source": [
    "### Basic statistics of the number of YouTube views:"
   ]
  },
  {
   "cell_type": "markdown",
   "metadata": {},
   "source": [
    "![title](basic_stat.png)"
   ]
  },
  {
   "cell_type": "markdown",
   "metadata": {},
   "source": [
    "* We observe that distributions of both US and UK views are right-skewed. \n",
    "* Few YouTube videos are virul with extermley high number of views.\n",
    "* The mean number of views in the US is 939,102; while the mean number of views in the UK is 1,110,467.\n",
    "* As there are some extreme number of views, standard deviation of both distribuitions are very high.\n",
    "* The standard deviation of the US views is 2,147,691, which 2.3 times larger than its mean."
   ]
  },
  {
   "cell_type": "markdown",
   "metadata": {},
   "source": [
    "### Distribution of the total number of views in the US and UK:"
   ]
  },
  {
   "cell_type": "markdown",
   "metadata": {},
   "source": [
    "![title](Distribution_US_UK.png)"
   ]
  },
  {
   "cell_type": "markdown",
   "metadata": {},
   "source": [
    "* We observe that distributions of both US and UK views are right-skewed. \n",
    "* Few YouTube videos are virul with extermley high number of views.\n",
    "* The mean number of views in the US is 939,102; while the mean number of views in the UK is 1,110,467.\n",
    "* As there are some extreme number of views, standard deviation of both distribuitions are very high.\n",
    "* The standard deviation of the US views is 2,147,691, which 2.3 times larger than its mean."
   ]
  },
  {
   "cell_type": "markdown",
   "metadata": {},
   "source": [
    "### Proportion of YouTube views by video categories in the US:"
   ]
  },
  {
   "cell_type": "markdown",
   "metadata": {},
   "source": [
    "![\"Pie Chart\"](pie_chart_US.png)"
   ]
  },
  {
   "cell_type": "markdown",
   "metadata": {},
   "source": [
    "* It is observed that in the US, most viewed video catogiries are: Enetrtainment, Music, Comedy, and People & Blogs"
   ]
  },
  {
   "cell_type": "markdown",
   "metadata": {},
   "source": [
    "### Proportion of YouTube views by video categories in the UK:"
   ]
  },
  {
   "cell_type": "markdown",
   "metadata": {},
   "source": [
    "![\"Pie Chart\"](pie_chart_UK.png)"
   ]
  },
  {
   "cell_type": "markdown",
   "metadata": {},
   "source": [
    "* In the UK, the most viewed video categories are: Music, Entertainment, Comdey, and People & Blogs"
   ]
  },
  {
   "cell_type": "markdown",
   "metadata": {},
   "source": [
    "### Comparison of the number of views by video categories in the US and UK:"
   ]
  },
  {
   "cell_type": "markdown",
   "metadata": {},
   "source": [
    "![title](comp_views.png)"
   ]
  },
  {
   "cell_type": "markdown",
   "metadata": {},
   "source": [
    "* In the UK, there are more number views in the categories of Music, Entertainment, and Sports than the number of views in the US.\n",
    "* However, in the US, there are more number of views in the categories of Comedy, News & Politics, Education, Science & Technology."
   ]
  },
  {
   "cell_type": "markdown",
   "metadata": {},
   "source": [
    "### Comparison of the number of likes by categories in the US and UK:"
   ]
  },
  {
   "cell_type": "markdown",
   "metadata": {},
   "source": [
    "![title](likes_comp.png)"
   ]
  },
  {
   "cell_type": "markdown",
   "metadata": {},
   "source": [
    "* It is observed that the number of likes in the UK outnumbers the number of likes in the US by Music and Entertainment.\n",
    "* But, in the US, in the categories of People & Blogs and Comedy, US likes outnumbers that of in the UK."
   ]
  },
  {
   "cell_type": "markdown",
   "metadata": {},
   "source": [
    "### Comparison of the number of dislikes by categories in the US and UK:"
   ]
  },
  {
   "cell_type": "markdown",
   "metadata": {},
   "source": [
    "![title](dislikes.png)"
   ]
  },
  {
   "cell_type": "markdown",
   "metadata": {},
   "source": [
    "* It is found that video categories with higher number of views and likes have also higher number of dislikes."
   ]
  },
  {
   "cell_type": "markdown",
   "metadata": {},
   "source": [
    "### Category-wise scatteplots between number of views and number of likes in the US:"
   ]
  },
  {
   "cell_type": "markdown",
   "metadata": {},
   "source": [
    "![title](corr_separate.png)"
   ]
  },
  {
   "cell_type": "markdown",
   "metadata": {},
   "source": [
    "* Category wise sactteplots between number of views and number of likes show positive trends."
   ]
  },
  {
   "cell_type": "markdown",
   "metadata": {},
   "source": [
    "### Scatteplot as a whole:"
   ]
  },
  {
   "cell_type": "markdown",
   "metadata": {},
   "source": [
    "![title](corr_combined_1.png)"
   ]
  },
  {
   "cell_type": "markdown",
   "metadata": {},
   "source": [
    "* it is observed that Entertainment and Music have higher number of views as well as higher number of likes"
   ]
  },
  {
   "cell_type": "markdown",
   "metadata": {},
   "source": [
    "### Correlations among number of views, likes, dislikes, and total number of comments "
   ]
  },
  {
   "cell_type": "markdown",
   "metadata": {},
   "source": [
    "![title](Corr_box.png)"
   ]
  },
  {
   "cell_type": "markdown",
   "metadata": {},
   "source": [
    "* It is found that -\n",
    "\n",
    "    * Correlation coefficient between number of likes and number of views is 0.83\n",
    "    * Correlation coefficient between number of dislikes and number of views is 0.54\n",
    "    * Correlation coefficient between number of comments and number of views is 0.72"
   ]
  },
  {
   "cell_type": "markdown",
   "metadata": {},
   "source": [
    "### Trending YouTube video views in the US:"
   ]
  },
  {
   "cell_type": "markdown",
   "metadata": {},
   "source": [
    "![title](Trend_video.png)"
   ]
  },
  {
   "cell_type": "markdown",
   "metadata": {},
   "source": [
    "* The above figure shows the number of views of particular videos that were high on Septemebr 13, 2017, declines rapidly by September 19, 2017.\n",
    "* This shows that the number of views declines quickly over a week."
   ]
  },
  {
   "cell_type": "markdown",
   "metadata": {},
   "source": [
    "### Conclusions:"
   ]
  },
  {
   "cell_type": "markdown",
   "metadata": {},
   "source": [
    "* This is an exploratory data analysis of comaprison of number of YouTube views, likes, dislikes in the US and UK.\n",
    "* The dataset is collected from [www.kaggle.com](https://www.kaggle.com/datasnaek/youtube)\n",
    "* It is found that the most viewed video categories are Entertainment and Music.\n",
    "* The least video categories are Pets & Animal, Travel & Events\n",
    "* The number of views and number of likes are highly correlated. It is quite natural that videos with higher number of views have higher number of likes.\n",
    "* Distributions of total number of views are right-skewed. Some virul videos have extreme number of views.\n",
    "* Statistical inference analysis shows that the mean of distributions are significantly different at 5% confidence level. "
   ]
  },
  {
   "cell_type": "code",
   "execution_count": null,
   "metadata": {},
   "outputs": [],
   "source": []
  }
 ],
 "metadata": {
  "kernelspec": {
   "display_name": "Python 3",
   "language": "python",
   "name": "python3"
  },
  "language_info": {
   "codemirror_mode": {
    "name": "ipython",
    "version": 3
   },
   "file_extension": ".py",
   "mimetype": "text/x-python",
   "name": "python",
   "nbconvert_exporter": "python",
   "pygments_lexer": "ipython3",
   "version": "3.7.1"
  }
 },
 "nbformat": 4,
 "nbformat_minor": 2
}
