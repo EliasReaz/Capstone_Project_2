{
 "cells": [
  {
   "cell_type": "markdown",
   "metadata": {},
   "source": [
    "<p style = \"font-family: Arial; font-size:1.75em;color:blue;font-size:bold\">\n",
    "    Exploratory data analysis: Trending YouTube videos from the US and UK \n",
    "    <br>\n",
    "</p>    \n",
    "\n",
    "[YouTube Dataset link](https://www.kaggle.com/datasnaek/youtube)"
   ]
  },
  {
   "cell_type": "markdown",
   "metadata": {},
   "source": [
    "### <font color=\"blue\">**Import necssary packages**</font>"
   ]
  },
  {
   "cell_type": "code",
   "execution_count": 1,
   "metadata": {},
   "outputs": [],
   "source": [
    "import numpy as np\n",
    "import matplotlib as mpl\n",
    "import matplotlib.pyplot as plt\n",
    "import seaborn as sns\n",
    "import pandas as pd\n",
    "# import glob\n",
    "\n",
    "mpl.rc('axes', labelsize=14)\n",
    "mpl.rc('xtick', labelsize=12)\n",
    "mpl.rc('ytick', labelsize=12)\n",
    "\n",
    "pd.set_option(\"display.max_columns\", 100)\n",
    "pd.set_option('display.max_colwidth', 100)\n",
    "# pd.set_option(\"display.latex.repr\", False)\n",
    "# Setup Seaborn\n",
    "# sns.set_style(\"whitegrid\")\n",
    "# sns.set_context(\"poster\") # poster"
   ]
  },
  {
   "cell_type": "markdown",
   "metadata": {},
   "source": [
    "## <font color=\"blue\"> **Dataframe: Load US videos** </font>"
   ]
  },
  {
   "cell_type": "code",
   "execution_count": 2,
   "metadata": {},
   "outputs": [
    {
     "name": "stdout",
     "output_type": "stream",
     "text": [
      "Shape of the dataframe:  (7998, 11)\n",
      "\n",
      "First three rows of the dataframe:\n",
      "        video_id                                                          title  \\\n",
      "0  XpVt6Z1Gjjo  1 YEAR OF VLOGGING -- HOW LOGAN PAUL CHANGED YOUTUBE FOREVER!   \n",
      "1  K4wEI5zhHB0                        iPhone X — Introducing iPhone X — Apple   \n",
      "2  cLdxuaxaQwc                                                    My Response   \n",
      "\n",
      "      channel_title  category_id  \\\n",
      "0  Logan Paul Vlogs           24   \n",
      "1             Apple           28   \n",
      "2         PewDiePie           22   \n",
      "\n",
      "                                                                                                  tags  \\\n",
      "0  logan paul vlog|logan paul|logan|paul|olympics|logan paul youtube|vlog|daily|comedy|hollywood|pa...   \n",
      "1  Apple|iPhone 10|iPhone Ten|iPhone|Portrait Lighting|A11 Bionic|augmented reality|emoji|animoji|F...   \n",
      "2                                                                                               [none]   \n",
      "\n",
      "     views   likes  dislikes  comment_total  \\\n",
      "0  4394029  320053      5931          46245   \n",
      "1  7860119  185853     26679              0   \n",
      "2  5845909  576597     39774         170708   \n",
      "\n",
      "                                   thumbnail_link   date  \n",
      "0  https://i.ytimg.com/vi/XpVt6Z1Gjjo/default.jpg  13.09  \n",
      "1  https://i.ytimg.com/vi/K4wEI5zhHB0/default.jpg  13.09  \n",
      "2  https://i.ytimg.com/vi/cLdxuaxaQwc/default.jpg  13.09  \n",
      "\n",
      "\n",
      "Column names:\n",
      "  Index(['video_id', 'title', 'channel_title', 'category_id', 'tags', 'views',\n",
      "       'likes', 'dislikes', 'comment_total', 'thumbnail_link', 'date'],\n",
      "      dtype='object')\n"
     ]
    }
   ],
   "source": [
    "us_video_cols = [\"video_id\",\"title\",\"channel_title\",\"category_id\",\"tags\",\"views\",\"likes\",\"dislikes\",\"comment_total\",\"thumbnail_link\",\"date\"]\n",
    "df_us_video = pd.read_csv(\"Data_youtube/USvideos.csv\", usecols=us_video_cols, sep=',', low_memory=False)\n",
    "print(\"Shape of the dataframe: \", df_us_video.shape)\n",
    "print()\n",
    "print(\"First three rows of the dataframe:\\n \", df_us_video.head(3))\n",
    "print()\n",
    "print(\"\\nColumn names:\\n \", df_us_video.columns)"
   ]
  },
  {
   "cell_type": "markdown",
   "metadata": {},
   "source": [
    "## <font color=\"blue\"> Dataframe: Load UK videos"
   ]
  },
  {
   "cell_type": "code",
   "execution_count": 3,
   "metadata": {},
   "outputs": [
    {
     "name": "stdout",
     "output_type": "stream",
     "text": [
      "Shape of the UK video dataframe:  (7995, 11)\n",
      "\n",
      "First three rows of the UK video dataframe:\n",
      "        video_id  \\\n",
      "0  jt2OHQh0HoQ   \n",
      "1  AqokkXoa7uE   \n",
      "2  YPVcg45W0z4   \n",
      "\n",
      "                                                                                        title  \\\n",
      "0  Live Apple Event - Apple September Event 2017 - iPhone 8, iPhone X, iOS 11 - Apple Keynote   \n",
      "1                                Holly and Phillip Meet Samantha the Sex Robot | This Morning   \n",
      "2                                                             My DNA Test Results! I'm WHAT?!   \n",
      "\n",
      "  channel_title  category_id  \\\n",
      "0   Apple Event           28   \n",
      "1  This Morning           24   \n",
      "2  emmablackery           24   \n",
      "\n",
      "                                                                                                  tags  \\\n",
      "0             apple events|apple event|iphone 8|iphone x|iphone 8 plus|iphone 7s|iphone 7s plus|ios 11   \n",
      "1  this morning|interview|holly willoughby|phillip schofield|ruth langsford|eamonn holmes|chat show...   \n",
      "2  emmablackery|emma blackery|emma|blackery|british vlogger|british youtuber|female vlogger|birdybo...   \n",
      "\n",
      "     views  likes  dislikes  comment_total  \\\n",
      "0  7426393  78240     13548            705   \n",
      "1   494203   2651      1309              0   \n",
      "2   142819  13119       151           1141   \n",
      "\n",
      "                                        thumbnail_link   date  \n",
      "0  https://i.ytimg.com/vi/jt2OHQh0HoQ/default_live.jpg  13.09  \n",
      "1       https://i.ytimg.com/vi/AqokkXoa7uE/default.jpg  13.09  \n",
      "2       https://i.ytimg.com/vi/YPVcg45W0z4/default.jpg  13.09  \n",
      "\n",
      "\n",
      "Column names of UK video dataframe:\n",
      "  Index(['video_id', 'title', 'channel_title', 'category_id', 'tags', 'views',\n",
      "       'likes', 'dislikes', 'comment_total', 'thumbnail_link', 'date'],\n",
      "      dtype='object')\n"
     ]
    }
   ],
   "source": [
    "uk_video_cols = [\"video_id\",\"title\",\"channel_title\",\"category_id\",\"tags\",\"views\",\"likes\",\"dislikes\",\"comment_total\",\"thumbnail_link\",\"date\"]\n",
    "df_uk_video = pd.read_csv(\"Data_youtube/GBvideos.csv\", usecols=us_video_cols, sep=',', low_memory=False)\n",
    "print(\"Shape of the UK video dataframe: \", df_uk_video.shape)\n",
    "print()\n",
    "print(\"First three rows of the UK video dataframe:\\n \", df_uk_video.head(3))\n",
    "print()\n",
    "print(\"\\nColumn names of UK video dataframe:\\n \", df_us_video.columns)"
   ]
  },
  {
   "cell_type": "markdown",
   "metadata": {},
   "source": [
    "# <font color=\"blue\"> Data exploration and cleaning: Remove/replace null values, replace/correct values, etc."
   ]
  },
  {
   "cell_type": "code",
   "execution_count": 4,
   "metadata": {},
   "outputs": [
    {
     "name": "stdout",
     "output_type": "stream",
     "text": [
      "Number of US unique video_id:  2364\n",
      "Number of UK unique video_id:  1736\n",
      "US unique video_id:\n",
      "  ['XpVt6Z1Gjjo' 'K4wEI5zhHB0' 'cLdxuaxaQwc' ... 'c74FjEqhCsc' 'a5NIg5yyHWo'\n",
      " '3VSa-oARk-w']\n",
      "US unique video_id:\n",
      "  ['jt2OHQh0HoQ' 'AqokkXoa7uE' 'YPVcg45W0z4' ... 'NRjDqw1w7k8' 'K2SCpgCurVQ'\n",
      " 'XQFeShp6UIY']\n"
     ]
    }
   ],
   "source": [
    "print(\"Number of US unique video_id: \", df_us_video['video_id'].nunique())\n",
    "print(\"Number of UK unique video_id: \", df_uk_video['video_id'].nunique())\n",
    "print(\"US unique video_id:\\n \", df_us_video['video_id'].unique())\n",
    "print(\"US unique video_id:\\n \", df_uk_video['video_id'].unique())"
   ]
  },
  {
   "cell_type": "code",
   "execution_count": 5,
   "metadata": {},
   "outputs": [
    {
     "name": "stdout",
     "output_type": "stream",
     "text": [
      "Info of US video:\n",
      " \n",
      "<class 'pandas.core.frame.DataFrame'>\n",
      "RangeIndex: 7998 entries, 0 to 7997\n",
      "Data columns (total 11 columns):\n",
      "video_id          7998 non-null object\n",
      "title             7998 non-null object\n",
      "channel_title     7998 non-null object\n",
      "category_id       7998 non-null int64\n",
      "tags              7998 non-null object\n",
      "views             7998 non-null int64\n",
      "likes             7998 non-null int64\n",
      "dislikes          7998 non-null int64\n",
      "comment_total     7998 non-null int64\n",
      "thumbnail_link    7998 non-null object\n",
      "date              7998 non-null object\n",
      "dtypes: int64(5), object(6)\n",
      "memory usage: 687.4+ KB\n",
      "\n",
      "Info of UK video:\n",
      " \n",
      "<class 'pandas.core.frame.DataFrame'>\n",
      "RangeIndex: 7995 entries, 0 to 7994\n",
      "Data columns (total 11 columns):\n",
      "video_id          7995 non-null object\n",
      "title             7995 non-null object\n",
      "channel_title     7995 non-null object\n",
      "category_id       7995 non-null int64\n",
      "tags              7995 non-null object\n",
      "views             7995 non-null int64\n",
      "likes             7995 non-null int64\n",
      "dislikes          7995 non-null int64\n",
      "comment_total     7995 non-null int64\n",
      "thumbnail_link    7995 non-null object\n",
      "date              7995 non-null object\n",
      "dtypes: int64(5), object(6)\n",
      "memory usage: 687.1+ KB\n"
     ]
    }
   ],
   "source": [
    "print(\"Info of US video:\\n \")\n",
    "df_us_video.info()\n",
    "print()\n",
    "print(\"Info of UK video:\\n \") \n",
    "df_uk_video.info()"
   ]
  },
  {
   "cell_type": "code",
   "execution_count": 6,
   "metadata": {},
   "outputs": [
    {
     "name": "stdout",
     "output_type": "stream",
     "text": [
      "Unique US video dates:\n",
      " ['13.09' '14.09' '15.09' '16.09' '17.09' '18.09' '19.09' '20.09' '21.09'\n",
      " '22.09' '23.09' '24.09' '24.09xcaeyJTx4Co' '25.09' '26.09'\n",
      " '26.0903jeumSTSzc' '27.09' '28.09' '29.09' '30.09' '01.10' '02.10'\n",
      " '03.10' '04.10' '05.10' '06.10' '07.10' '08.10' '09.10' '100' '10.10'\n",
      " '11.10' '12.10' '13.10' '14.10' '15.10' '16.10' '17.10' '18.10' '19.10'\n",
      " '20.10' '21.10' '22.10']\n",
      "\n",
      "Unique UK video dates: \n",
      " ['13.09' '14.09' '15.09' '16.09' '17.09' '18.09' '19.09' '20.09' '21.09'\n",
      " '22.09' '23.09' '24.09' '24.09l7yxJDFvTRM' '25.09' '26.09'\n",
      " '26.09t2oVUxTV4WA' '27.09' '28.09' '29.09' '30.09' '01.10' '02.10'\n",
      " '03.10' '04.10' '05.10' '06.10' '07.10' '08.10' '09.10' '10.10' '11.10'\n",
      " '12.10' '13.10' '14.10' '15.10' '16.10' '17.10' '18.10' '19.10' '20.10'\n",
      " '21.10' '22.10']\n"
     ]
    }
   ],
   "source": [
    "print(\"Unique US video dates:\\n\", df_us_video.date.unique())\n",
    "print()\n",
    "\n",
    "print(\"Unique UK video dates: \\n\", df_uk_video.date.unique())"
   ]
  },
  {
   "cell_type": "markdown",
   "metadata": {},
   "source": [
    "## <font color=\"blue\"> Correct some data format, e.g., \"26.0903jeumSTSzc\" to '26.03' "
   ]
  },
  {
   "cell_type": "code",
   "execution_count": 7,
   "metadata": {},
   "outputs": [
    {
     "name": "stdout",
     "output_type": "stream",
     "text": [
      "Corected format: US video dates:\n",
      "  ['13.09' '14.09' '15.09' '16.09' '17.09' '18.09' '19.09' '20.09' '21.09'\n",
      " '22.09' '23.09' '24.09' '25.09' '26.09' '27.09' '28.09' '29.09' '30.09'\n",
      " '01.10' '02.10' '03.10' '04.10' '05.10' '06.10' '07.10' '08.10' '09.10'\n",
      " '10.10' '11.10' '12.10' '13.10' '14.10' '15.10' '16.10' '17.10' '18.10'\n",
      " '19.10' '20.10' '21.10' '22.10']\n",
      "Number of unique US video dates:  40\n",
      "Corected format: UK video dates:\n",
      "  ['13.09' '14.09' '15.09' '16.09' '17.09' '18.09' '19.09' '20.09' '21.09'\n",
      " '22.09' '23.09' '24.09' '25.09' '26.09' '27.09' '28.09' '29.09' '30.09'\n",
      " '01.10' '02.10' '03.10' '04.10' '05.10' '06.10' '07.10' '08.10' '09.10'\n",
      " '10.10' '11.10' '12.10' '13.10' '14.10' '15.10' '16.10' '17.10' '18.10'\n",
      " '19.10' '20.10' '21.10' '22.10']\n",
      "Number of unique UK video dates:  40\n"
     ]
    }
   ],
   "source": [
    "df_us_video.loc[df_us_video.date == '26.0903jeumSTSzc', 'date'] = '26.09'\n",
    "df_us_video.loc[df_us_video.date == '24.09xcaeyJTx4Co', 'date'] = '24.09'\n",
    "df_us_video.loc[df_us_video['date'] == '100', 'date'] = '24.09'\n",
    "df_uk_video.loc[df_uk_video.date == '24.09l7yxJDFvTRM', 'date'] = '24.09'\n",
    "df_uk_video.loc[df_uk_video['date'] == '26.09t2oVUxTV4WA', 'date'] = '26.09'\n",
    "# Check that changes are made correctly\n",
    "print(\"Corected format: US video dates:\\n \", df_us_video.date.unique())\n",
    "print(\"Number of unique US video dates: \", df_us_video['date'].nunique())\n",
    "print(\"Corected format: UK video dates:\\n \", df_us_video.date.unique())\n",
    "print(\"Number of unique UK video dates: \", df_uk_video['date'].nunique())"
   ]
  },
  {
   "cell_type": "markdown",
   "metadata": {},
   "source": [
    "### Change date format from string '26.03' to datetime "
   ]
  },
  {
   "cell_type": "code",
   "execution_count": 8,
   "metadata": {},
   "outputs": [
    {
     "data": {
      "text/plain": [
       "0   2017-09-13\n",
       "1   2017-09-13\n",
       "2   2017-09-13\n",
       "Name: date, dtype: datetime64[ns]"
      ]
     },
     "execution_count": 8,
     "metadata": {},
     "output_type": "execute_result"
    }
   ],
   "source": [
    "df_us_video.date = df_us_video['date'].apply(lambda x: pd.to_datetime(str(x).replace('.','')+\"2017\", format=\"%d%m%Y\") if isinstance(x, str) else df_us_video.date)\n",
    "df_us_video.date.head(3)"
   ]
  },
  {
   "cell_type": "code",
   "execution_count": 9,
   "metadata": {},
   "outputs": [
    {
     "data": {
      "text/plain": [
       "0   2017-09-13\n",
       "1   2017-09-13\n",
       "2   2017-09-13\n",
       "Name: date, dtype: datetime64[ns]"
      ]
     },
     "execution_count": 9,
     "metadata": {},
     "output_type": "execute_result"
    }
   ],
   "source": [
    "df_uk_video['date'] = df_uk_video.date.apply(lambda x: pd.to_datetime(str(x).replace('.','')+\"2017\", format='%d%m%Y') if isinstance(x, str) else df_uk_video.date)\n",
    "df_uk_video.date.head(3)"
   ]
  },
  {
   "cell_type": "code",
   "execution_count": 10,
   "metadata": {},
   "outputs": [
    {
     "name": "stdout",
     "output_type": "stream",
     "text": [
      "Number of unique video categories in the US:  16\n",
      "Number of unique video categories in the UK:  15\n",
      "Unique video categories in the US:  [1, 2, 10, 15, 17, 19, 20, 22, 23, 24, 25, 26, 27, 28, 29, 43]\n",
      "Unique video categories in the UK:  [1, 2, 10, 15, 17, 19, 20, 22, 23, 24, 25, 26, 27, 28, 29]\n"
     ]
    }
   ],
   "source": [
    "print(\"Number of unique video categories in the US: \", df_us_video.category_id.nunique())\n",
    "print(\"Number of unique video categories in the UK: \", df_uk_video.category_id.nunique())\n",
    "\n",
    "print(\"Unique video categories in the US: \", sorted(df_us_video.category_id.unique()))\n",
    "print(\"Unique video categories in the UK: \", sorted(df_uk_video.category_id.unique()))"
   ]
  },
  {
   "cell_type": "markdown",
   "metadata": {},
   "source": [
    "###  There are 40 unique dates beginning from Sep 13, 2017 to Oct 10, 2017"
   ]
  },
  {
   "cell_type": "code",
   "execution_count": 11,
   "metadata": {},
   "outputs": [
    {
     "data": {
      "text/plain": [
       "(40, array(['2017-10-18T00:00:00.000000000', '2017-10-19T00:00:00.000000000',\n",
       "        '2017-10-20T00:00:00.000000000', '2017-10-21T00:00:00.000000000',\n",
       "        '2017-10-22T00:00:00.000000000'], dtype='datetime64[ns]'))"
      ]
     },
     "execution_count": 11,
     "metadata": {},
     "output_type": "execute_result"
    }
   ],
   "source": [
    "df_us_video.date.nunique(), df_us_video.date.unique()[-5:]"
   ]
  },
  {
   "cell_type": "code",
   "execution_count": 12,
   "metadata": {},
   "outputs": [
    {
     "data": {
      "text/plain": [
       "(40, array(['2017-09-13T00:00:00.000000000', '2017-09-14T00:00:00.000000000',\n",
       "        '2017-09-15T00:00:00.000000000', '2017-09-16T00:00:00.000000000',\n",
       "        '2017-09-17T00:00:00.000000000'], dtype='datetime64[ns]'))"
      ]
     },
     "execution_count": 12,
     "metadata": {},
     "output_type": "execute_result"
    }
   ],
   "source": [
    "df_uk_video.date.nunique(), df_uk_video.date.unique()[0:5]"
   ]
  },
  {
   "cell_type": "markdown",
   "metadata": {},
   "source": [
    "### Preliminary investigation shows follwoing attributes of US and UK video dataframes: "
   ]
  },
  {
   "cell_type": "markdown",
   "metadata": {},
   "source": [
    "|Attributes   | df_us_video | df_uk_video |\n",
    "|---|---|---| \n",
    "|Number of rows | 7998 | 7995 |\n",
    "|Number of unique videos| 2364 | 1736|\n",
    "|Number of unique categories| 16 | 15 |\n",
    "|Number of unique dates| 40 | 40 |"
   ]
  },
  {
   "cell_type": "code",
   "execution_count": 13,
   "metadata": {},
   "outputs": [],
   "source": [
    "df_us_video.category_id = df_us_video.category_id.astype('str')\n",
    "df_uk_video.category_id = df_uk_video.category_id.astype('str')"
   ]
  },
  {
   "cell_type": "code",
   "execution_count": 14,
   "metadata": {},
   "outputs": [
    {
     "name": "stdout",
     "output_type": "stream",
     "text": [
      "<class 'pandas.core.frame.DataFrame'>\n",
      "RangeIndex: 7998 entries, 0 to 7997\n",
      "Data columns (total 11 columns):\n",
      "video_id          7998 non-null object\n",
      "title             7998 non-null object\n",
      "channel_title     7998 non-null object\n",
      "category_id       7998 non-null object\n",
      "tags              7998 non-null object\n",
      "views             7998 non-null int64\n",
      "likes             7998 non-null int64\n",
      "dislikes          7998 non-null int64\n",
      "comment_total     7998 non-null int64\n",
      "thumbnail_link    7998 non-null object\n",
      "date              7998 non-null datetime64[ns]\n",
      "dtypes: datetime64[ns](1), int64(4), object(6)\n",
      "memory usage: 687.4+ KB\n"
     ]
    }
   ],
   "source": [
    "df_us_video.info()"
   ]
  },
  {
   "cell_type": "markdown",
   "metadata": {},
   "source": [
    "\n",
    "### The US videos with zero views\n"
   ]
  },
  {
   "cell_type": "code",
   "execution_count": 15,
   "metadata": {},
   "outputs": [
    {
     "data": {
      "text/html": [
       "<div>\n",
       "<style scoped>\n",
       "    .dataframe tbody tr th:only-of-type {\n",
       "        vertical-align: middle;\n",
       "    }\n",
       "\n",
       "    .dataframe tbody tr th {\n",
       "        vertical-align: top;\n",
       "    }\n",
       "\n",
       "    .dataframe thead th {\n",
       "        text-align: right;\n",
       "    }\n",
       "</style>\n",
       "<table border=\"1\" class=\"dataframe\">\n",
       "  <thead>\n",
       "    <tr style=\"text-align: right;\">\n",
       "      <th></th>\n",
       "      <th>video_id</th>\n",
       "      <th>title</th>\n",
       "      <th>channel_title</th>\n",
       "      <th>category_id</th>\n",
       "      <th>tags</th>\n",
       "      <th>views</th>\n",
       "      <th>likes</th>\n",
       "      <th>dislikes</th>\n",
       "      <th>comment_total</th>\n",
       "      <th>thumbnail_link</th>\n",
       "      <th>date</th>\n",
       "    </tr>\n",
       "  </thead>\n",
       "  <tbody>\n",
       "    <tr>\n",
       "      <th>4500</th>\n",
       "      <td>knhzSEv5Xpk</td>\n",
       "      <td>Katy Perry: Will You Be My Witness?</td>\n",
       "      <td>Katy Perry</td>\n",
       "      <td>1</td>\n",
       "      <td>Katy Perry: Will You Be My Witness|Katy Perry|YouTube Red Original Movie|YouTube Red Originals|Y...</td>\n",
       "      <td>0</td>\n",
       "      <td>0</td>\n",
       "      <td>0</td>\n",
       "      <td>0</td>\n",
       "      <td>https://i.ytimg.com/vi/knhzSEv5Xpk/default.jpg</td>\n",
       "      <td>2017-10-05</td>\n",
       "    </tr>\n",
       "    <tr>\n",
       "      <th>4754</th>\n",
       "      <td>knhzSEv5Xpk</td>\n",
       "      <td>Katy Perry: Will You Be My Witness?</td>\n",
       "      <td>Katy Perry</td>\n",
       "      <td>1</td>\n",
       "      <td>Katy Perry: Will You Be My Witness|Katy Perry|YouTube Red Original Movie|YouTube Red Originals|Y...</td>\n",
       "      <td>0</td>\n",
       "      <td>0</td>\n",
       "      <td>0</td>\n",
       "      <td>0</td>\n",
       "      <td>https://i.ytimg.com/vi/knhzSEv5Xpk/default.jpg</td>\n",
       "      <td>2017-10-06</td>\n",
       "    </tr>\n",
       "    <tr>\n",
       "      <th>4869</th>\n",
       "      <td>sNSzJiF4sB8</td>\n",
       "      <td>Chance The Rapper - Hurricane Maria Relief Live Stream - directrelief.org</td>\n",
       "      <td>Chance The Rapper</td>\n",
       "      <td>10</td>\n",
       "      <td>chance the rapper|chance tha rapper|chancetherapper|chancerapper|chance|ctr|same drugs|angels|no...</td>\n",
       "      <td>0</td>\n",
       "      <td>0</td>\n",
       "      <td>0</td>\n",
       "      <td>201</td>\n",
       "      <td>https://i.ytimg.com/vi/sNSzJiF4sB8/default.jpg</td>\n",
       "      <td>2017-10-07</td>\n",
       "    </tr>\n",
       "    <tr>\n",
       "      <th>4968</th>\n",
       "      <td>knhzSEv5Xpk</td>\n",
       "      <td>Katy Perry: Will You Be My Witness?</td>\n",
       "      <td>Katy Perry</td>\n",
       "      <td>1</td>\n",
       "      <td>Katy Perry: Will You Be My Witness|Katy Perry|YouTube Red Original Movie|YouTube Red Originals|Y...</td>\n",
       "      <td>0</td>\n",
       "      <td>0</td>\n",
       "      <td>0</td>\n",
       "      <td>0</td>\n",
       "      <td>https://i.ytimg.com/vi/knhzSEv5Xpk/default.jpg</td>\n",
       "      <td>2017-10-07</td>\n",
       "    </tr>\n",
       "    <tr>\n",
       "      <th>5196</th>\n",
       "      <td>knhzSEv5Xpk</td>\n",
       "      <td>Katy Perry: Will You Be My Witness?</td>\n",
       "      <td>Katy Perry</td>\n",
       "      <td>1</td>\n",
       "      <td>Katy Perry: Will You Be My Witness|Katy Perry|YouTube Red Original Movie|YouTube Red Originals|Y...</td>\n",
       "      <td>0</td>\n",
       "      <td>0</td>\n",
       "      <td>0</td>\n",
       "      <td>0</td>\n",
       "      <td>https://i.ytimg.com/vi/knhzSEv5Xpk/default.jpg</td>\n",
       "      <td>2017-10-08</td>\n",
       "    </tr>\n",
       "  </tbody>\n",
       "</table>\n",
       "</div>"
      ],
      "text/plain": [
       "         video_id  \\\n",
       "4500  knhzSEv5Xpk   \n",
       "4754  knhzSEv5Xpk   \n",
       "4869  sNSzJiF4sB8   \n",
       "4968  knhzSEv5Xpk   \n",
       "5196  knhzSEv5Xpk   \n",
       "\n",
       "                                                                          title  \\\n",
       "4500                                        Katy Perry: Will You Be My Witness?   \n",
       "4754                                        Katy Perry: Will You Be My Witness?   \n",
       "4869  Chance The Rapper - Hurricane Maria Relief Live Stream - directrelief.org   \n",
       "4968                                        Katy Perry: Will You Be My Witness?   \n",
       "5196                                        Katy Perry: Will You Be My Witness?   \n",
       "\n",
       "          channel_title category_id  \\\n",
       "4500         Katy Perry           1   \n",
       "4754         Katy Perry           1   \n",
       "4869  Chance The Rapper          10   \n",
       "4968         Katy Perry           1   \n",
       "5196         Katy Perry           1   \n",
       "\n",
       "                                                                                                     tags  \\\n",
       "4500  Katy Perry: Will You Be My Witness|Katy Perry|YouTube Red Original Movie|YouTube Red Originals|Y...   \n",
       "4754  Katy Perry: Will You Be My Witness|Katy Perry|YouTube Red Original Movie|YouTube Red Originals|Y...   \n",
       "4869  chance the rapper|chance tha rapper|chancetherapper|chancerapper|chance|ctr|same drugs|angels|no...   \n",
       "4968  Katy Perry: Will You Be My Witness|Katy Perry|YouTube Red Original Movie|YouTube Red Originals|Y...   \n",
       "5196  Katy Perry: Will You Be My Witness|Katy Perry|YouTube Red Original Movie|YouTube Red Originals|Y...   \n",
       "\n",
       "      views  likes  dislikes  comment_total  \\\n",
       "4500      0      0         0              0   \n",
       "4754      0      0         0              0   \n",
       "4869      0      0         0            201   \n",
       "4968      0      0         0              0   \n",
       "5196      0      0         0              0   \n",
       "\n",
       "                                      thumbnail_link       date  \n",
       "4500  https://i.ytimg.com/vi/knhzSEv5Xpk/default.jpg 2017-10-05  \n",
       "4754  https://i.ytimg.com/vi/knhzSEv5Xpk/default.jpg 2017-10-06  \n",
       "4869  https://i.ytimg.com/vi/sNSzJiF4sB8/default.jpg 2017-10-07  \n",
       "4968  https://i.ytimg.com/vi/knhzSEv5Xpk/default.jpg 2017-10-07  \n",
       "5196  https://i.ytimg.com/vi/knhzSEv5Xpk/default.jpg 2017-10-08  "
      ]
     },
     "execution_count": 15,
     "metadata": {},
     "output_type": "execute_result"
    }
   ],
   "source": [
    "df_us_video[df_us_video.views==0].head()"
   ]
  },
  {
   "cell_type": "markdown",
   "metadata": {},
   "source": [
    "### Load US and UK \"comments\" on videos from json files"
   ]
  },
  {
   "cell_type": "code",
   "execution_count": 16,
   "metadata": {},
   "outputs": [
    {
     "data": {
      "text/plain": [
       "(32, 7)"
      ]
     },
     "execution_count": 16,
     "metadata": {},
     "output_type": "execute_result"
    }
   ],
   "source": [
    "import json\n",
    "\n",
    "from pandas.io.json import json_normalize    \n",
    "\n",
    "# json_normalize('Data_youtube/US_category_id.json')\n",
    "\n",
    "with open('Data_youtube/US_category_id.json') as data_file:    \n",
    "     json_object = json.load(data_file)  \n",
    "        \n",
    "df = json_normalize(data=json_object, record_path='items', meta=['kind', 'etag', 'id'], \n",
    "                     record_prefix='items_', errors='ignore')\n",
    "df.shape"
   ]
  },
  {
   "cell_type": "code",
   "execution_count": 17,
   "metadata": {},
   "outputs": [
    {
     "data": {
      "text/html": [
       "<div>\n",
       "<style scoped>\n",
       "    .dataframe tbody tr th:only-of-type {\n",
       "        vertical-align: middle;\n",
       "    }\n",
       "\n",
       "    .dataframe tbody tr th {\n",
       "        vertical-align: top;\n",
       "    }\n",
       "\n",
       "    .dataframe thead th {\n",
       "        text-align: right;\n",
       "    }\n",
       "</style>\n",
       "<table border=\"1\" class=\"dataframe\">\n",
       "  <thead>\n",
       "    <tr style=\"text-align: right;\">\n",
       "      <th></th>\n",
       "      <th>items_etag</th>\n",
       "      <th>items_id</th>\n",
       "      <th>items_kind</th>\n",
       "      <th>items_snippet</th>\n",
       "      <th>kind</th>\n",
       "      <th>etag</th>\n",
       "      <th>id</th>\n",
       "    </tr>\n",
       "  </thead>\n",
       "  <tbody>\n",
       "    <tr>\n",
       "      <th>0</th>\n",
       "      <td>\"m2yskBQFythfE4irbTIeOgYYfBU/Xy1mB4_yLrHy_BmKmPBggty2mZQ\"</td>\n",
       "      <td>1</td>\n",
       "      <td>youtube#videoCategory</td>\n",
       "      <td>{'channelId': 'UCBR8-60-B28hp2BmDPdntcQ', 'title': 'Film &amp; Animation', 'assignable': True}</td>\n",
       "      <td>youtube#videoCategoryListResponse</td>\n",
       "      <td>\"m2yskBQFythfE4irbTIeOgYYfBU/S730Ilt-Fi-emsQJvJAAShlR6hM\"</td>\n",
       "      <td>NaN</td>\n",
       "    </tr>\n",
       "    <tr>\n",
       "      <th>1</th>\n",
       "      <td>\"m2yskBQFythfE4irbTIeOgYYfBU/UZ1oLIIz2dxIhO45ZTFR3a3NyTA\"</td>\n",
       "      <td>2</td>\n",
       "      <td>youtube#videoCategory</td>\n",
       "      <td>{'channelId': 'UCBR8-60-B28hp2BmDPdntcQ', 'title': 'Autos &amp; Vehicles', 'assignable': True}</td>\n",
       "      <td>youtube#videoCategoryListResponse</td>\n",
       "      <td>\"m2yskBQFythfE4irbTIeOgYYfBU/S730Ilt-Fi-emsQJvJAAShlR6hM\"</td>\n",
       "      <td>NaN</td>\n",
       "    </tr>\n",
       "    <tr>\n",
       "      <th>2</th>\n",
       "      <td>\"m2yskBQFythfE4irbTIeOgYYfBU/nqRIq97-xe5XRZTxbknKFVe5Lmg\"</td>\n",
       "      <td>10</td>\n",
       "      <td>youtube#videoCategory</td>\n",
       "      <td>{'channelId': 'UCBR8-60-B28hp2BmDPdntcQ', 'title': 'Music', 'assignable': True}</td>\n",
       "      <td>youtube#videoCategoryListResponse</td>\n",
       "      <td>\"m2yskBQFythfE4irbTIeOgYYfBU/S730Ilt-Fi-emsQJvJAAShlR6hM\"</td>\n",
       "      <td>NaN</td>\n",
       "    </tr>\n",
       "  </tbody>\n",
       "</table>\n",
       "</div>"
      ],
      "text/plain": [
       "                                                  items_etag items_id  \\\n",
       "0  \"m2yskBQFythfE4irbTIeOgYYfBU/Xy1mB4_yLrHy_BmKmPBggty2mZQ\"        1   \n",
       "1  \"m2yskBQFythfE4irbTIeOgYYfBU/UZ1oLIIz2dxIhO45ZTFR3a3NyTA\"        2   \n",
       "2  \"m2yskBQFythfE4irbTIeOgYYfBU/nqRIq97-xe5XRZTxbknKFVe5Lmg\"       10   \n",
       "\n",
       "              items_kind  \\\n",
       "0  youtube#videoCategory   \n",
       "1  youtube#videoCategory   \n",
       "2  youtube#videoCategory   \n",
       "\n",
       "                                                                                items_snippet  \\\n",
       "0  {'channelId': 'UCBR8-60-B28hp2BmDPdntcQ', 'title': 'Film & Animation', 'assignable': True}   \n",
       "1  {'channelId': 'UCBR8-60-B28hp2BmDPdntcQ', 'title': 'Autos & Vehicles', 'assignable': True}   \n",
       "2             {'channelId': 'UCBR8-60-B28hp2BmDPdntcQ', 'title': 'Music', 'assignable': True}   \n",
       "\n",
       "                                kind  \\\n",
       "0  youtube#videoCategoryListResponse   \n",
       "1  youtube#videoCategoryListResponse   \n",
       "2  youtube#videoCategoryListResponse   \n",
       "\n",
       "                                                        etag  id  \n",
       "0  \"m2yskBQFythfE4irbTIeOgYYfBU/S730Ilt-Fi-emsQJvJAAShlR6hM\" NaN  \n",
       "1  \"m2yskBQFythfE4irbTIeOgYYfBU/S730Ilt-Fi-emsQJvJAAShlR6hM\" NaN  \n",
       "2  \"m2yskBQFythfE4irbTIeOgYYfBU/S730Ilt-Fi-emsQJvJAAShlR6hM\" NaN  "
      ]
     },
     "execution_count": 17,
     "metadata": {},
     "output_type": "execute_result"
    }
   ],
   "source": [
    "df.head(3)"
   ]
  },
  {
   "cell_type": "code",
   "execution_count": 18,
   "metadata": {},
   "outputs": [
    {
     "name": "stdout",
     "output_type": "stream",
     "text": [
      "Number of video categories:  32\n",
      "Category numbers:\n",
      "  ['1' '2' '10' '15' '17' '18' '19' '20' '21' '22' '23' '24' '25' '26' '27'\n",
      " '28' '29' '30' '31' '32' '33' '34' '35' '36' '37' '38' '39' '40' '41'\n",
      " '42' '43' '44']\n"
     ]
    }
   ],
   "source": [
    "print(\"Number of video categories: \", df.items_id.nunique()) \n",
    "print(\"Category numbers:\\n \", df.items_id.unique())"
   ]
  },
  {
   "cell_type": "code",
   "execution_count": 19,
   "metadata": {},
   "outputs": [],
   "source": [
    "items_id_series = df.items_id\n",
    "# items_id_series[0:3]"
   ]
  },
  {
   "cell_type": "code",
   "execution_count": 20,
   "metadata": {},
   "outputs": [
    {
     "data": {
      "text/plain": [
       "0    {'channelId': 'UCBR8-60-B28hp2BmDPdntcQ', 'title': 'Film & Animation', 'assignable': True}\n",
       "1    {'channelId': 'UCBR8-60-B28hp2BmDPdntcQ', 'title': 'Autos & Vehicles', 'assignable': True}\n",
       "2               {'channelId': 'UCBR8-60-B28hp2BmDPdntcQ', 'title': 'Music', 'assignable': True}\n",
       "Name: items_snippet, dtype: object"
      ]
     },
     "execution_count": 20,
     "metadata": {},
     "output_type": "execute_result"
    }
   ],
   "source": [
    "df.items_snippet[0:3]"
   ]
  },
  {
   "cell_type": "code",
   "execution_count": 21,
   "metadata": {},
   "outputs": [],
   "source": [
    "# list_title = list(df.items_snippet[0].values())\n",
    "# list_title[1]"
   ]
  },
  {
   "cell_type": "code",
   "execution_count": 22,
   "metadata": {},
   "outputs": [],
   "source": [
    "# len(df.items_snippet)"
   ]
  },
  {
   "cell_type": "code",
   "execution_count": 23,
   "metadata": {},
   "outputs": [
    {
     "data": {
      "text/plain": [
       "['Film & Animation', 'Autos & Vehicles', 'Music', 'Pets & Animals', 'Sports']"
      ]
     },
     "execution_count": 23,
     "metadata": {},
     "output_type": "execute_result"
    }
   ],
   "source": [
    "list_title = [list(df.items_snippet[i].values())[1] for i in range(len(df.items_snippet))]\n",
    "list_title[0:5]"
   ]
  },
  {
   "cell_type": "markdown",
   "metadata": {},
   "source": [
    "### df_category_title: dataframe with category title and category id"
   ]
  },
  {
   "cell_type": "code",
   "execution_count": 24,
   "metadata": {},
   "outputs": [
    {
     "data": {
      "text/html": [
       "<div>\n",
       "<style scoped>\n",
       "    .dataframe tbody tr th:only-of-type {\n",
       "        vertical-align: middle;\n",
       "    }\n",
       "\n",
       "    .dataframe tbody tr th {\n",
       "        vertical-align: top;\n",
       "    }\n",
       "\n",
       "    .dataframe thead th {\n",
       "        text-align: right;\n",
       "    }\n",
       "</style>\n",
       "<table border=\"1\" class=\"dataframe\">\n",
       "  <thead>\n",
       "    <tr style=\"text-align: right;\">\n",
       "      <th></th>\n",
       "      <th>category_id</th>\n",
       "      <th>Category_title</th>\n",
       "    </tr>\n",
       "  </thead>\n",
       "  <tbody>\n",
       "    <tr>\n",
       "      <th>0</th>\n",
       "      <td>1</td>\n",
       "      <td>Film &amp; Animation</td>\n",
       "    </tr>\n",
       "    <tr>\n",
       "      <th>1</th>\n",
       "      <td>2</td>\n",
       "      <td>Autos &amp; Vehicles</td>\n",
       "    </tr>\n",
       "    <tr>\n",
       "      <th>2</th>\n",
       "      <td>10</td>\n",
       "      <td>Music</td>\n",
       "    </tr>\n",
       "    <tr>\n",
       "      <th>3</th>\n",
       "      <td>15</td>\n",
       "      <td>Pets &amp; Animals</td>\n",
       "    </tr>\n",
       "    <tr>\n",
       "      <th>4</th>\n",
       "      <td>17</td>\n",
       "      <td>Sports</td>\n",
       "    </tr>\n",
       "    <tr>\n",
       "      <th>5</th>\n",
       "      <td>18</td>\n",
       "      <td>Short Movies</td>\n",
       "    </tr>\n",
       "  </tbody>\n",
       "</table>\n",
       "</div>"
      ],
      "text/plain": [
       "  category_id    Category_title\n",
       "0           1  Film & Animation\n",
       "1           2  Autos & Vehicles\n",
       "2          10             Music\n",
       "3          15    Pets & Animals\n",
       "4          17            Sports\n",
       "5          18      Short Movies"
      ]
     },
     "execution_count": 24,
     "metadata": {},
     "output_type": "execute_result"
    }
   ],
   "source": [
    "df_category_title = pd.DataFrame({'category_id':items_id_series.values, 'Category_title': list_title})\n",
    "df_category_title.head(6)"
   ]
  },
  {
   "cell_type": "code",
   "execution_count": 25,
   "metadata": {},
   "outputs": [
    {
     "name": "stdout",
     "output_type": "stream",
     "text": [
      "<class 'pandas.core.frame.DataFrame'>\n",
      "RangeIndex: 32 entries, 0 to 31\n",
      "Data columns (total 2 columns):\n",
      "category_id       32 non-null object\n",
      "Category_title    32 non-null object\n",
      "dtypes: object(2)\n",
      "memory usage: 592.0+ bytes\n"
     ]
    }
   ],
   "source": [
    "df_category_title.info()"
   ]
  },
  {
   "cell_type": "markdown",
   "metadata": {},
   "source": [
    "### Merge two dataframes \n",
    "    \n",
    "### df_us_video and df_category_title and get US videos with respective category titles"
   ]
  },
  {
   "cell_type": "code",
   "execution_count": 26,
   "metadata": {},
   "outputs": [],
   "source": [
    "df_us_video_with_category_title = pd.merge(df_us_video, df_category_title, how='left', on='category_id', copy=False)"
   ]
  },
  {
   "cell_type": "code",
   "execution_count": 27,
   "metadata": {},
   "outputs": [
    {
     "data": {
      "text/html": [
       "<div>\n",
       "<style scoped>\n",
       "    .dataframe tbody tr th:only-of-type {\n",
       "        vertical-align: middle;\n",
       "    }\n",
       "\n",
       "    .dataframe tbody tr th {\n",
       "        vertical-align: top;\n",
       "    }\n",
       "\n",
       "    .dataframe thead th {\n",
       "        text-align: right;\n",
       "    }\n",
       "</style>\n",
       "<table border=\"1\" class=\"dataframe\">\n",
       "  <thead>\n",
       "    <tr style=\"text-align: right;\">\n",
       "      <th></th>\n",
       "      <th>video_id</th>\n",
       "      <th>title</th>\n",
       "      <th>channel_title</th>\n",
       "      <th>category_id</th>\n",
       "      <th>tags</th>\n",
       "      <th>views</th>\n",
       "      <th>likes</th>\n",
       "      <th>dislikes</th>\n",
       "      <th>comment_total</th>\n",
       "      <th>thumbnail_link</th>\n",
       "      <th>date</th>\n",
       "      <th>Category_title</th>\n",
       "    </tr>\n",
       "  </thead>\n",
       "  <tbody>\n",
       "    <tr>\n",
       "      <th>0</th>\n",
       "      <td>XpVt6Z1Gjjo</td>\n",
       "      <td>1 YEAR OF VLOGGING -- HOW LOGAN PAUL CHANGED YOUTUBE FOREVER!</td>\n",
       "      <td>Logan Paul Vlogs</td>\n",
       "      <td>24</td>\n",
       "      <td>logan paul vlog|logan paul|logan|paul|olympics|logan paul youtube|vlog|daily|comedy|hollywood|pa...</td>\n",
       "      <td>4394029</td>\n",
       "      <td>320053</td>\n",
       "      <td>5931</td>\n",
       "      <td>46245</td>\n",
       "      <td>https://i.ytimg.com/vi/XpVt6Z1Gjjo/default.jpg</td>\n",
       "      <td>2017-09-13</td>\n",
       "      <td>Entertainment</td>\n",
       "    </tr>\n",
       "    <tr>\n",
       "      <th>1</th>\n",
       "      <td>K4wEI5zhHB0</td>\n",
       "      <td>iPhone X — Introducing iPhone X — Apple</td>\n",
       "      <td>Apple</td>\n",
       "      <td>28</td>\n",
       "      <td>Apple|iPhone 10|iPhone Ten|iPhone|Portrait Lighting|A11 Bionic|augmented reality|emoji|animoji|F...</td>\n",
       "      <td>7860119</td>\n",
       "      <td>185853</td>\n",
       "      <td>26679</td>\n",
       "      <td>0</td>\n",
       "      <td>https://i.ytimg.com/vi/K4wEI5zhHB0/default.jpg</td>\n",
       "      <td>2017-09-13</td>\n",
       "      <td>Science &amp; Technology</td>\n",
       "    </tr>\n",
       "    <tr>\n",
       "      <th>2</th>\n",
       "      <td>cLdxuaxaQwc</td>\n",
       "      <td>My Response</td>\n",
       "      <td>PewDiePie</td>\n",
       "      <td>22</td>\n",
       "      <td>[none]</td>\n",
       "      <td>5845909</td>\n",
       "      <td>576597</td>\n",
       "      <td>39774</td>\n",
       "      <td>170708</td>\n",
       "      <td>https://i.ytimg.com/vi/cLdxuaxaQwc/default.jpg</td>\n",
       "      <td>2017-09-13</td>\n",
       "      <td>People &amp; Blogs</td>\n",
       "    </tr>\n",
       "  </tbody>\n",
       "</table>\n",
       "</div>"
      ],
      "text/plain": [
       "      video_id                                                          title  \\\n",
       "0  XpVt6Z1Gjjo  1 YEAR OF VLOGGING -- HOW LOGAN PAUL CHANGED YOUTUBE FOREVER!   \n",
       "1  K4wEI5zhHB0                        iPhone X — Introducing iPhone X — Apple   \n",
       "2  cLdxuaxaQwc                                                    My Response   \n",
       "\n",
       "      channel_title category_id  \\\n",
       "0  Logan Paul Vlogs          24   \n",
       "1             Apple          28   \n",
       "2         PewDiePie          22   \n",
       "\n",
       "                                                                                                  tags  \\\n",
       "0  logan paul vlog|logan paul|logan|paul|olympics|logan paul youtube|vlog|daily|comedy|hollywood|pa...   \n",
       "1  Apple|iPhone 10|iPhone Ten|iPhone|Portrait Lighting|A11 Bionic|augmented reality|emoji|animoji|F...   \n",
       "2                                                                                               [none]   \n",
       "\n",
       "     views   likes  dislikes  comment_total  \\\n",
       "0  4394029  320053      5931          46245   \n",
       "1  7860119  185853     26679              0   \n",
       "2  5845909  576597     39774         170708   \n",
       "\n",
       "                                   thumbnail_link       date  \\\n",
       "0  https://i.ytimg.com/vi/XpVt6Z1Gjjo/default.jpg 2017-09-13   \n",
       "1  https://i.ytimg.com/vi/K4wEI5zhHB0/default.jpg 2017-09-13   \n",
       "2  https://i.ytimg.com/vi/cLdxuaxaQwc/default.jpg 2017-09-13   \n",
       "\n",
       "         Category_title  \n",
       "0         Entertainment  \n",
       "1  Science & Technology  \n",
       "2        People & Blogs  "
      ]
     },
     "execution_count": 27,
     "metadata": {},
     "output_type": "execute_result"
    }
   ],
   "source": [
    "df_us_video_with_category_title.head(3)"
   ]
  },
  {
   "cell_type": "code",
   "execution_count": null,
   "metadata": {},
   "outputs": [],
   "source": []
  },
  {
   "cell_type": "markdown",
   "metadata": {},
   "source": [
    "### Finding: Top 10 US video views are Music and Entertainment "
   ]
  },
  {
   "cell_type": "code",
   "execution_count": 28,
   "metadata": {},
   "outputs": [
    {
     "data": {
      "text/html": [
       "<div>\n",
       "<style scoped>\n",
       "    .dataframe tbody tr th:only-of-type {\n",
       "        vertical-align: middle;\n",
       "    }\n",
       "\n",
       "    .dataframe tbody tr th {\n",
       "        vertical-align: top;\n",
       "    }\n",
       "\n",
       "    .dataframe thead th {\n",
       "        text-align: right;\n",
       "    }\n",
       "</style>\n",
       "<table border=\"1\" class=\"dataframe\">\n",
       "  <thead>\n",
       "    <tr style=\"text-align: right;\">\n",
       "      <th></th>\n",
       "      <th>video_id</th>\n",
       "      <th>title</th>\n",
       "      <th>channel_title</th>\n",
       "      <th>category_id</th>\n",
       "      <th>views</th>\n",
       "      <th>likes</th>\n",
       "      <th>dislikes</th>\n",
       "      <th>date</th>\n",
       "      <th>Category_title</th>\n",
       "    </tr>\n",
       "  </thead>\n",
       "  <tbody>\n",
       "    <tr>\n",
       "      <th>1907</th>\n",
       "      <td>MBdVXkSdhwU</td>\n",
       "      <td>BTS (방탄소년단) 'DNA' Official MV</td>\n",
       "      <td>ibighit</td>\n",
       "      <td>10</td>\n",
       "      <td>41500672</td>\n",
       "      <td>2010366</td>\n",
       "      <td>78076</td>\n",
       "      <td>2017-09-22</td>\n",
       "      <td>Music</td>\n",
       "    </tr>\n",
       "    <tr>\n",
       "      <th>1694</th>\n",
       "      <td>MBdVXkSdhwU</td>\n",
       "      <td>BTS (방탄소년단) 'DNA' Official MV</td>\n",
       "      <td>ibighit</td>\n",
       "      <td>10</td>\n",
       "      <td>38013692</td>\n",
       "      <td>1950475</td>\n",
       "      <td>75294</td>\n",
       "      <td>2017-09-21</td>\n",
       "      <td>Music</td>\n",
       "    </tr>\n",
       "    <tr>\n",
       "      <th>177</th>\n",
       "      <td>tt2k8PGm-TI</td>\n",
       "      <td>ZAYN - Dusk Till Dawn ft. Sia</td>\n",
       "      <td>ZaynVEVO</td>\n",
       "      <td>10</td>\n",
       "      <td>36323498</td>\n",
       "      <td>1431683</td>\n",
       "      <td>28049</td>\n",
       "      <td>2017-09-13</td>\n",
       "      <td>Music</td>\n",
       "    </tr>\n",
       "    <tr>\n",
       "      <th>7141</th>\n",
       "      <td>LunHybOKIjU</td>\n",
       "      <td>Eminem Rips Donald Trump In BET Hip Hop Awards Freestyle Cypher</td>\n",
       "      <td>BETNetworks</td>\n",
       "      <td>24</td>\n",
       "      <td>33191594</td>\n",
       "      <td>982842</td>\n",
       "      <td>184310</td>\n",
       "      <td>2017-10-18</td>\n",
       "      <td>Entertainment</td>\n",
       "    </tr>\n",
       "    <tr>\n",
       "      <th>6923</th>\n",
       "      <td>LunHybOKIjU</td>\n",
       "      <td>Eminem Rips Donald Trump In BET Hip Hop Awards Freestyle Cypher</td>\n",
       "      <td>BETNetworks</td>\n",
       "      <td>24</td>\n",
       "      <td>32512343</td>\n",
       "      <td>968719</td>\n",
       "      <td>180427</td>\n",
       "      <td>2017-10-17</td>\n",
       "      <td>Entertainment</td>\n",
       "    </tr>\n",
       "    <tr>\n",
       "      <th>1995</th>\n",
       "      <td>SHq2qrFUlGY</td>\n",
       "      <td>Shakira - Perro Fiel (Official Video) ft. Nicky Jam</td>\n",
       "      <td>shakiraVEVO</td>\n",
       "      <td>10</td>\n",
       "      <td>32136948</td>\n",
       "      <td>578266</td>\n",
       "      <td>43475</td>\n",
       "      <td>2017-09-22</td>\n",
       "      <td>Music</td>\n",
       "    </tr>\n",
       "    <tr>\n",
       "      <th>6678</th>\n",
       "      <td>LunHybOKIjU</td>\n",
       "      <td>Eminem Rips Donald Trump In BET Hip Hop Awards Freestyle Cypher</td>\n",
       "      <td>BETNetworks</td>\n",
       "      <td>24</td>\n",
       "      <td>31636010</td>\n",
       "      <td>950353</td>\n",
       "      <td>175483</td>\n",
       "      <td>2017-10-16</td>\n",
       "      <td>Entertainment</td>\n",
       "    </tr>\n",
       "    <tr>\n",
       "      <th>1440</th>\n",
       "      <td>MBdVXkSdhwU</td>\n",
       "      <td>BTS (방탄소년단) 'DNA' Official MV</td>\n",
       "      <td>ibighit</td>\n",
       "      <td>10</td>\n",
       "      <td>30424471</td>\n",
       "      <td>1762428</td>\n",
       "      <td>63990</td>\n",
       "      <td>2017-09-20</td>\n",
       "      <td>Music</td>\n",
       "    </tr>\n",
       "    <tr>\n",
       "      <th>6437</th>\n",
       "      <td>LunHybOKIjU</td>\n",
       "      <td>Eminem Rips Donald Trump In BET Hip Hop Awards Freestyle Cypher</td>\n",
       "      <td>BETNetworks</td>\n",
       "      <td>24</td>\n",
       "      <td>30224787</td>\n",
       "      <td>916296</td>\n",
       "      <td>166986</td>\n",
       "      <td>2017-10-15</td>\n",
       "      <td>Entertainment</td>\n",
       "    </tr>\n",
       "    <tr>\n",
       "      <th>6210</th>\n",
       "      <td>LunHybOKIjU</td>\n",
       "      <td>Eminem Rips Donald Trump In BET Hip Hop Awards Freestyle Cypher</td>\n",
       "      <td>BETNetworks</td>\n",
       "      <td>24</td>\n",
       "      <td>28212358</td>\n",
       "      <td>870122</td>\n",
       "      <td>153018</td>\n",
       "      <td>2017-10-14</td>\n",
       "      <td>Entertainment</td>\n",
       "    </tr>\n",
       "  </tbody>\n",
       "</table>\n",
       "</div>"
      ],
      "text/plain": [
       "         video_id  \\\n",
       "1907  MBdVXkSdhwU   \n",
       "1694  MBdVXkSdhwU   \n",
       "177   tt2k8PGm-TI   \n",
       "7141  LunHybOKIjU   \n",
       "6923  LunHybOKIjU   \n",
       "1995  SHq2qrFUlGY   \n",
       "6678  LunHybOKIjU   \n",
       "1440  MBdVXkSdhwU   \n",
       "6437  LunHybOKIjU   \n",
       "6210  LunHybOKIjU   \n",
       "\n",
       "                                                                title  \\\n",
       "1907                                    BTS (방탄소년단) 'DNA' Official MV   \n",
       "1694                                    BTS (방탄소년단) 'DNA' Official MV   \n",
       "177                                     ZAYN - Dusk Till Dawn ft. Sia   \n",
       "7141  Eminem Rips Donald Trump In BET Hip Hop Awards Freestyle Cypher   \n",
       "6923  Eminem Rips Donald Trump In BET Hip Hop Awards Freestyle Cypher   \n",
       "1995              Shakira - Perro Fiel (Official Video) ft. Nicky Jam   \n",
       "6678  Eminem Rips Donald Trump In BET Hip Hop Awards Freestyle Cypher   \n",
       "1440                                    BTS (방탄소년단) 'DNA' Official MV   \n",
       "6437  Eminem Rips Donald Trump In BET Hip Hop Awards Freestyle Cypher   \n",
       "6210  Eminem Rips Donald Trump In BET Hip Hop Awards Freestyle Cypher   \n",
       "\n",
       "     channel_title category_id     views    likes  dislikes       date  \\\n",
       "1907       ibighit          10  41500672  2010366     78076 2017-09-22   \n",
       "1694       ibighit          10  38013692  1950475     75294 2017-09-21   \n",
       "177       ZaynVEVO          10  36323498  1431683     28049 2017-09-13   \n",
       "7141   BETNetworks          24  33191594   982842    184310 2017-10-18   \n",
       "6923   BETNetworks          24  32512343   968719    180427 2017-10-17   \n",
       "1995   shakiraVEVO          10  32136948   578266     43475 2017-09-22   \n",
       "6678   BETNetworks          24  31636010   950353    175483 2017-10-16   \n",
       "1440       ibighit          10  30424471  1762428     63990 2017-09-20   \n",
       "6437   BETNetworks          24  30224787   916296    166986 2017-10-15   \n",
       "6210   BETNetworks          24  28212358   870122    153018 2017-10-14   \n",
       "\n",
       "     Category_title  \n",
       "1907          Music  \n",
       "1694          Music  \n",
       "177           Music  \n",
       "7141  Entertainment  \n",
       "6923  Entertainment  \n",
       "1995          Music  \n",
       "6678  Entertainment  \n",
       "1440          Music  \n",
       "6437  Entertainment  \n",
       "6210  Entertainment  "
      ]
     },
     "execution_count": 28,
     "metadata": {},
     "output_type": "execute_result"
    }
   ],
   "source": [
    "df_us_video_with_category_title[['video_id', 'title', 'channel_title', 'category_id', 'views', 'likes', 'dislikes', 'date', 'Category_title']].nlargest(n=10, columns=['views'])"
   ]
  },
  {
   "cell_type": "code",
   "execution_count": 29,
   "metadata": {},
   "outputs": [],
   "source": [
    "# plt.figure(figsize=(8,8))\n",
    "# df_us_video_with_category_title[['views', 'Category_title']].groupby(\"Category_title\")[\"views\"].sum().plot.pie()\n",
    "# plt.ylabel(\"\")\n",
    "# plt.title(\"Proportions of the US YouTube viewers during Sep. and Oct., 2017\" , fontsize=18)\n",
    "# plt.tight_layout()\n",
    "# plt.show()"
   ]
  },
  {
   "cell_type": "markdown",
   "metadata": {},
   "source": [
    "### Merge two dataframes: df_uk_video and df_category_title and obtain UK videos with their category titles "
   ]
  },
  {
   "cell_type": "code",
   "execution_count": 30,
   "metadata": {},
   "outputs": [],
   "source": [
    "df_uk_video_with_category_title = pd.merge(df_uk_video, df_category_title, how='left', on='category_id', copy=False)"
   ]
  },
  {
   "cell_type": "markdown",
   "metadata": {},
   "source": [
    "### Finding: All top 10 UK video views are: Music "
   ]
  },
  {
   "cell_type": "code",
   "execution_count": 31,
   "metadata": {},
   "outputs": [
    {
     "data": {
      "text/html": [
       "<div>\n",
       "<style scoped>\n",
       "    .dataframe tbody tr th:only-of-type {\n",
       "        vertical-align: middle;\n",
       "    }\n",
       "\n",
       "    .dataframe tbody tr th {\n",
       "        vertical-align: top;\n",
       "    }\n",
       "\n",
       "    .dataframe thead th {\n",
       "        text-align: right;\n",
       "    }\n",
       "</style>\n",
       "<table border=\"1\" class=\"dataframe\">\n",
       "  <thead>\n",
       "    <tr style=\"text-align: right;\">\n",
       "      <th></th>\n",
       "      <th>video_id</th>\n",
       "      <th>title</th>\n",
       "      <th>channel_title</th>\n",
       "      <th>category_id</th>\n",
       "      <th>views</th>\n",
       "      <th>likes</th>\n",
       "      <th>dislikes</th>\n",
       "      <th>date</th>\n",
       "      <th>Category_title</th>\n",
       "    </tr>\n",
       "  </thead>\n",
       "  <tbody>\n",
       "    <tr>\n",
       "      <th>2768</th>\n",
       "      <td>MBdVXkSdhwU</td>\n",
       "      <td>BTS (방탄소년단) 'DNA' Official MV</td>\n",
       "      <td>ibighit</td>\n",
       "      <td>10</td>\n",
       "      <td>58961407</td>\n",
       "      <td>2289911</td>\n",
       "      <td>96258</td>\n",
       "      <td>2017-09-26</td>\n",
       "      <td>Music</td>\n",
       "    </tr>\n",
       "    <tr>\n",
       "      <th>2573</th>\n",
       "      <td>MBdVXkSdhwU</td>\n",
       "      <td>BTS (방탄소년단) 'DNA' Official MV</td>\n",
       "      <td>ibighit</td>\n",
       "      <td>10</td>\n",
       "      <td>55269274</td>\n",
       "      <td>2241616</td>\n",
       "      <td>92413</td>\n",
       "      <td>2017-09-25</td>\n",
       "      <td>Music</td>\n",
       "    </tr>\n",
       "    <tr>\n",
       "      <th>2359</th>\n",
       "      <td>MBdVXkSdhwU</td>\n",
       "      <td>BTS (방탄소년단) 'DNA' Official MV</td>\n",
       "      <td>ibighit</td>\n",
       "      <td>10</td>\n",
       "      <td>51093264</td>\n",
       "      <td>2184109</td>\n",
       "      <td>88300</td>\n",
       "      <td>2017-09-24</td>\n",
       "      <td>Music</td>\n",
       "    </tr>\n",
       "    <tr>\n",
       "      <th>2143</th>\n",
       "      <td>MBdVXkSdhwU</td>\n",
       "      <td>BTS (방탄소년단) 'DNA' Official MV</td>\n",
       "      <td>ibighit</td>\n",
       "      <td>10</td>\n",
       "      <td>47496553</td>\n",
       "      <td>2129373</td>\n",
       "      <td>85273</td>\n",
       "      <td>2017-09-23</td>\n",
       "      <td>Music</td>\n",
       "    </tr>\n",
       "    <tr>\n",
       "      <th>592</th>\n",
       "      <td>QeaumjX9DNY</td>\n",
       "      <td>Yandel - Como Antes (Official Video) ft. Wisin</td>\n",
       "      <td>YandelVEVO</td>\n",
       "      <td>10</td>\n",
       "      <td>42486342</td>\n",
       "      <td>678389</td>\n",
       "      <td>13995</td>\n",
       "      <td>2017-09-15</td>\n",
       "      <td>Music</td>\n",
       "    </tr>\n",
       "    <tr>\n",
       "      <th>572</th>\n",
       "      <td>tt2k8PGm-TI</td>\n",
       "      <td>ZAYN - Dusk Till Dawn ft. Sia</td>\n",
       "      <td>ZaynVEVO</td>\n",
       "      <td>10</td>\n",
       "      <td>41959549</td>\n",
       "      <td>1502097</td>\n",
       "      <td>30036</td>\n",
       "      <td>2017-09-15</td>\n",
       "      <td>Music</td>\n",
       "    </tr>\n",
       "    <tr>\n",
       "      <th>1847</th>\n",
       "      <td>MBdVXkSdhwU</td>\n",
       "      <td>BTS (방탄소년단) 'DNA' Official MV</td>\n",
       "      <td>ibighit</td>\n",
       "      <td>10</td>\n",
       "      <td>41500671</td>\n",
       "      <td>2010229</td>\n",
       "      <td>78065</td>\n",
       "      <td>2017-09-22</td>\n",
       "      <td>Music</td>\n",
       "    </tr>\n",
       "    <tr>\n",
       "      <th>347</th>\n",
       "      <td>tt2k8PGm-TI</td>\n",
       "      <td>ZAYN - Dusk Till Dawn ft. Sia</td>\n",
       "      <td>ZaynVEVO</td>\n",
       "      <td>10</td>\n",
       "      <td>38678096</td>\n",
       "      <td>1458937</td>\n",
       "      <td>28784</td>\n",
       "      <td>2017-09-14</td>\n",
       "      <td>Music</td>\n",
       "    </tr>\n",
       "    <tr>\n",
       "      <th>2189</th>\n",
       "      <td>SHq2qrFUlGY</td>\n",
       "      <td>Shakira - Perro Fiel (Official Video) ft. Nicky Jam</td>\n",
       "      <td>shakiraVEVO</td>\n",
       "      <td>10</td>\n",
       "      <td>38144440</td>\n",
       "      <td>624008</td>\n",
       "      <td>47220</td>\n",
       "      <td>2017-09-23</td>\n",
       "      <td>Music</td>\n",
       "    </tr>\n",
       "    <tr>\n",
       "      <th>1649</th>\n",
       "      <td>MBdVXkSdhwU</td>\n",
       "      <td>BTS (방탄소년단) 'DNA' Official MV</td>\n",
       "      <td>ibighit</td>\n",
       "      <td>10</td>\n",
       "      <td>37982279</td>\n",
       "      <td>1950226</td>\n",
       "      <td>75273</td>\n",
       "      <td>2017-09-21</td>\n",
       "      <td>Music</td>\n",
       "    </tr>\n",
       "  </tbody>\n",
       "</table>\n",
       "</div>"
      ],
      "text/plain": [
       "         video_id                                                title  \\\n",
       "2768  MBdVXkSdhwU                        BTS (방탄소년단) 'DNA' Official MV   \n",
       "2573  MBdVXkSdhwU                        BTS (방탄소년단) 'DNA' Official MV   \n",
       "2359  MBdVXkSdhwU                        BTS (방탄소년단) 'DNA' Official MV   \n",
       "2143  MBdVXkSdhwU                        BTS (방탄소년단) 'DNA' Official MV   \n",
       "592   QeaumjX9DNY       Yandel - Como Antes (Official Video) ft. Wisin   \n",
       "572   tt2k8PGm-TI                        ZAYN - Dusk Till Dawn ft. Sia   \n",
       "1847  MBdVXkSdhwU                        BTS (방탄소년단) 'DNA' Official MV   \n",
       "347   tt2k8PGm-TI                        ZAYN - Dusk Till Dawn ft. Sia   \n",
       "2189  SHq2qrFUlGY  Shakira - Perro Fiel (Official Video) ft. Nicky Jam   \n",
       "1649  MBdVXkSdhwU                        BTS (방탄소년단) 'DNA' Official MV   \n",
       "\n",
       "     channel_title category_id     views    likes  dislikes       date  \\\n",
       "2768       ibighit          10  58961407  2289911     96258 2017-09-26   \n",
       "2573       ibighit          10  55269274  2241616     92413 2017-09-25   \n",
       "2359       ibighit          10  51093264  2184109     88300 2017-09-24   \n",
       "2143       ibighit          10  47496553  2129373     85273 2017-09-23   \n",
       "592     YandelVEVO          10  42486342   678389     13995 2017-09-15   \n",
       "572       ZaynVEVO          10  41959549  1502097     30036 2017-09-15   \n",
       "1847       ibighit          10  41500671  2010229     78065 2017-09-22   \n",
       "347       ZaynVEVO          10  38678096  1458937     28784 2017-09-14   \n",
       "2189   shakiraVEVO          10  38144440   624008     47220 2017-09-23   \n",
       "1649       ibighit          10  37982279  1950226     75273 2017-09-21   \n",
       "\n",
       "     Category_title  \n",
       "2768          Music  \n",
       "2573          Music  \n",
       "2359          Music  \n",
       "2143          Music  \n",
       "592           Music  \n",
       "572           Music  \n",
       "1847          Music  \n",
       "347           Music  \n",
       "2189          Music  \n",
       "1649          Music  "
      ]
     },
     "execution_count": 31,
     "metadata": {},
     "output_type": "execute_result"
    }
   ],
   "source": [
    "df_uk_video_with_category_title[['video_id', 'title', 'channel_title', 'category_id', 'views', 'likes', 'dislikes', 'date', 'Category_title']].nlargest(n=10, columns=['views'])"
   ]
  },
  {
   "cell_type": "code",
   "execution_count": 32,
   "metadata": {},
   "outputs": [
    {
     "data": {
      "text/html": [
       "<div>\n",
       "<style scoped>\n",
       "    .dataframe tbody tr th:only-of-type {\n",
       "        vertical-align: middle;\n",
       "    }\n",
       "\n",
       "    .dataframe tbody tr th {\n",
       "        vertical-align: top;\n",
       "    }\n",
       "\n",
       "    .dataframe thead th {\n",
       "        text-align: right;\n",
       "    }\n",
       "</style>\n",
       "<table border=\"1\" class=\"dataframe\">\n",
       "  <thead>\n",
       "    <tr style=\"text-align: right;\">\n",
       "      <th></th>\n",
       "      <th>video_id</th>\n",
       "      <th>title</th>\n",
       "      <th>channel_title</th>\n",
       "      <th>category_id</th>\n",
       "      <th>views</th>\n",
       "      <th>likes</th>\n",
       "      <th>dislikes</th>\n",
       "      <th>date</th>\n",
       "      <th>Category_title</th>\n",
       "    </tr>\n",
       "  </thead>\n",
       "  <tbody>\n",
       "    <tr>\n",
       "      <th>2768</th>\n",
       "      <td>MBdVXkSdhwU</td>\n",
       "      <td>BTS (방탄소년단) 'DNA' Official MV</td>\n",
       "      <td>ibighit</td>\n",
       "      <td>10</td>\n",
       "      <td>58961407</td>\n",
       "      <td>2289911</td>\n",
       "      <td>96258</td>\n",
       "      <td>2017-09-26</td>\n",
       "      <td>Music</td>\n",
       "    </tr>\n",
       "    <tr>\n",
       "      <th>2573</th>\n",
       "      <td>MBdVXkSdhwU</td>\n",
       "      <td>BTS (방탄소년단) 'DNA' Official MV</td>\n",
       "      <td>ibighit</td>\n",
       "      <td>10</td>\n",
       "      <td>55269274</td>\n",
       "      <td>2241616</td>\n",
       "      <td>92413</td>\n",
       "      <td>2017-09-25</td>\n",
       "      <td>Music</td>\n",
       "    </tr>\n",
       "    <tr>\n",
       "      <th>2359</th>\n",
       "      <td>MBdVXkSdhwU</td>\n",
       "      <td>BTS (방탄소년단) 'DNA' Official MV</td>\n",
       "      <td>ibighit</td>\n",
       "      <td>10</td>\n",
       "      <td>51093264</td>\n",
       "      <td>2184109</td>\n",
       "      <td>88300</td>\n",
       "      <td>2017-09-24</td>\n",
       "      <td>Music</td>\n",
       "    </tr>\n",
       "    <tr>\n",
       "      <th>2143</th>\n",
       "      <td>MBdVXkSdhwU</td>\n",
       "      <td>BTS (방탄소년단) 'DNA' Official MV</td>\n",
       "      <td>ibighit</td>\n",
       "      <td>10</td>\n",
       "      <td>47496553</td>\n",
       "      <td>2129373</td>\n",
       "      <td>85273</td>\n",
       "      <td>2017-09-23</td>\n",
       "      <td>Music</td>\n",
       "    </tr>\n",
       "    <tr>\n",
       "      <th>1847</th>\n",
       "      <td>MBdVXkSdhwU</td>\n",
       "      <td>BTS (방탄소년단) 'DNA' Official MV</td>\n",
       "      <td>ibighit</td>\n",
       "      <td>10</td>\n",
       "      <td>41500671</td>\n",
       "      <td>2010229</td>\n",
       "      <td>78065</td>\n",
       "      <td>2017-09-22</td>\n",
       "      <td>Music</td>\n",
       "    </tr>\n",
       "    <tr>\n",
       "      <th>1649</th>\n",
       "      <td>MBdVXkSdhwU</td>\n",
       "      <td>BTS (방탄소년단) 'DNA' Official MV</td>\n",
       "      <td>ibighit</td>\n",
       "      <td>10</td>\n",
       "      <td>37982279</td>\n",
       "      <td>1950226</td>\n",
       "      <td>75273</td>\n",
       "      <td>2017-09-21</td>\n",
       "      <td>Music</td>\n",
       "    </tr>\n",
       "    <tr>\n",
       "      <th>1411</th>\n",
       "      <td>MBdVXkSdhwU</td>\n",
       "      <td>BTS (방탄소년단) 'DNA' Official MV</td>\n",
       "      <td>ibighit</td>\n",
       "      <td>10</td>\n",
       "      <td>30424471</td>\n",
       "      <td>1762154</td>\n",
       "      <td>63962</td>\n",
       "      <td>2017-09-20</td>\n",
       "      <td>Music</td>\n",
       "    </tr>\n",
       "    <tr>\n",
       "      <th>572</th>\n",
       "      <td>tt2k8PGm-TI</td>\n",
       "      <td>ZAYN - Dusk Till Dawn ft. Sia</td>\n",
       "      <td>ZaynVEVO</td>\n",
       "      <td>10</td>\n",
       "      <td>41959549</td>\n",
       "      <td>1502097</td>\n",
       "      <td>30036</td>\n",
       "      <td>2017-09-15</td>\n",
       "      <td>Music</td>\n",
       "    </tr>\n",
       "    <tr>\n",
       "      <th>1201</th>\n",
       "      <td>MBdVXkSdhwU</td>\n",
       "      <td>BTS (방탄소년단) 'DNA' Official MV</td>\n",
       "      <td>ibighit</td>\n",
       "      <td>10</td>\n",
       "      <td>20565649</td>\n",
       "      <td>1477400</td>\n",
       "      <td>46419</td>\n",
       "      <td>2017-09-19</td>\n",
       "      <td>Music</td>\n",
       "    </tr>\n",
       "    <tr>\n",
       "      <th>347</th>\n",
       "      <td>tt2k8PGm-TI</td>\n",
       "      <td>ZAYN - Dusk Till Dawn ft. Sia</td>\n",
       "      <td>ZaynVEVO</td>\n",
       "      <td>10</td>\n",
       "      <td>38678096</td>\n",
       "      <td>1458937</td>\n",
       "      <td>28784</td>\n",
       "      <td>2017-09-14</td>\n",
       "      <td>Music</td>\n",
       "    </tr>\n",
       "  </tbody>\n",
       "</table>\n",
       "</div>"
      ],
      "text/plain": [
       "         video_id                          title channel_title category_id  \\\n",
       "2768  MBdVXkSdhwU  BTS (방탄소년단) 'DNA' Official MV       ibighit          10   \n",
       "2573  MBdVXkSdhwU  BTS (방탄소년단) 'DNA' Official MV       ibighit          10   \n",
       "2359  MBdVXkSdhwU  BTS (방탄소년단) 'DNA' Official MV       ibighit          10   \n",
       "2143  MBdVXkSdhwU  BTS (방탄소년단) 'DNA' Official MV       ibighit          10   \n",
       "1847  MBdVXkSdhwU  BTS (방탄소년단) 'DNA' Official MV       ibighit          10   \n",
       "1649  MBdVXkSdhwU  BTS (방탄소년단) 'DNA' Official MV       ibighit          10   \n",
       "1411  MBdVXkSdhwU  BTS (방탄소년단) 'DNA' Official MV       ibighit          10   \n",
       "572   tt2k8PGm-TI  ZAYN - Dusk Till Dawn ft. Sia      ZaynVEVO          10   \n",
       "1201  MBdVXkSdhwU  BTS (방탄소년단) 'DNA' Official MV       ibighit          10   \n",
       "347   tt2k8PGm-TI  ZAYN - Dusk Till Dawn ft. Sia      ZaynVEVO          10   \n",
       "\n",
       "         views    likes  dislikes       date Category_title  \n",
       "2768  58961407  2289911     96258 2017-09-26          Music  \n",
       "2573  55269274  2241616     92413 2017-09-25          Music  \n",
       "2359  51093264  2184109     88300 2017-09-24          Music  \n",
       "2143  47496553  2129373     85273 2017-09-23          Music  \n",
       "1847  41500671  2010229     78065 2017-09-22          Music  \n",
       "1649  37982279  1950226     75273 2017-09-21          Music  \n",
       "1411  30424471  1762154     63962 2017-09-20          Music  \n",
       "572   41959549  1502097     30036 2017-09-15          Music  \n",
       "1201  20565649  1477400     46419 2017-09-19          Music  \n",
       "347   38678096  1458937     28784 2017-09-14          Music  "
      ]
     },
     "execution_count": 32,
     "metadata": {},
     "output_type": "execute_result"
    }
   ],
   "source": [
    "df_uk_video_with_category_title[['video_id', 'title', 'channel_title', 'category_id', 'views', 'likes', 'dislikes', 'date', 'Category_title']].nlargest(n=10, columns=['likes'])"
   ]
  },
  {
   "cell_type": "code",
   "execution_count": null,
   "metadata": {},
   "outputs": [],
   "source": []
  },
  {
   "cell_type": "code",
   "execution_count": 71,
   "metadata": {},
   "outputs": [
    {
     "data": {
      "image/png": "[encoded data removed]",
      "text/plain": [
       "<Figure size 576x576 with 1 Axes>"
      ]
     },
     "metadata": {},
     "output_type": "display_data"
    },
    {
     "data": {
      "image/png": "[encoded data removed]",
      "text/plain": [
       "<Figure size 576x576 with 1 Axes>"
      ]
     },
     "metadata": {},
     "output_type": "display_data"
    }
   ],
   "source": [
    "plt.figure(figsize=(8,8))\n",
    "df_us_video_with_category_title[['views', 'Category_title']].groupby(\"Category_title\")[\"views\"].sum().plot.pie()\n",
    "plt.ylabel(\"\")\n",
    "plt.title(\"Proportions of the US YouTube viewers during Sep. and Oct., 2017\" , fontsize=18)\n",
    "plt.tight_layout()\n",
    "plt.savefig(\"pie_chart_US.png\", bbox_inches=\"tight\")\n",
    "plt.show()\n",
    "\n",
    "plt.figure(figsize=(8,8))\n",
    "df_uk_video_with_category_title[['views', 'Category_title']].groupby(\"Category_title\")[\"views\"].sum().plot.pie()\n",
    "plt.ylabel(\"\")\n",
    "plt.title(\"Proportions of the UK YouTube viewers during Sep. and Oct., 2017\" , fontsize=18)\n",
    "plt.tight_layout()\n",
    "plt.savefig(\"pie_chart_UK.png\", bbox_inches=\"tight\")\n",
    "plt.show()\n",
    "\n"
   ]
  },
  {
   "cell_type": "markdown",
   "metadata": {},
   "source": [
    "* Music, Entertainment, and Comedy are the most viewed video categories in both US and UK. "
   ]
  },
  {
   "cell_type": "markdown",
   "metadata": {},
   "source": [
    "### Finding: Comparison of Distribution of US and UK Youtube views "
   ]
  },
  {
   "cell_type": "markdown",
   "metadata": {},
   "source": [
    "### Distributions of views in the UK and US are found highty skewed.  "
   ]
  },
  {
   "cell_type": "code",
   "execution_count": 72,
   "metadata": {},
   "outputs": [
    {
     "data": {
      "image/png": "[encoded data removed]",
      "text/plain": [
       "<Figure size 864x504 with 1 Axes>"
      ]
     },
     "metadata": {
      "needs_background": "light"
     },
     "output_type": "display_data"
    }
   ],
   "source": [
    "plt.figure(figsize=(12,7))\n",
    "plt.hist(df_uk_video_with_category_title.views + 1, log=True, color=\"blue\", alpha=0.5, label=\"UK Youtube views\")\n",
    "plt.hist(df_us_video_with_category_title.views + 1, log=True, color=\"red\", alpha=0.3, label=\"US Youtube views\")\n",
    "plt.title(\"US and UK views are found highly skewed\", fontsize=20)\n",
    "plt.xlabel(\"Number of views\", fontsize=20)\n",
    "plt.ylabel(\"Counts in logarithmic scale\", fontsize=20)\n",
    "plt.grid(True)\n",
    "plt.legend()\n",
    "plt.savefig(\"Distribution_US_UK.png\", bbox_inches=\"tight\")\n",
    "plt.show()"
   ]
  },
  {
   "cell_type": "code",
   "execution_count": 35,
   "metadata": {},
   "outputs": [
    {
     "name": "stdout",
     "output_type": "stream",
     "text": [
      "Basic statistics of the US YouTube views: \n",
      "\n",
      "count    7.998000e+03\n",
      "mean     9.391016e+05\n",
      "std      2.147691e+06\n",
      "min      0.000000e+00\n",
      "25%      9.690000e+04\n",
      "50%      3.086115e+05\n",
      "75%      9.595132e+05\n",
      "max      4.150067e+07\n",
      "Name: views, dtype: float64\n",
      "\n",
      "Basic statistics of the UK YouTube views: \n",
      "\n",
      "count    7.995000e+03\n",
      "mean     1.110467e+06\n",
      "std      3.048405e+06\n",
      "min      0.000000e+00\n",
      "25%      1.082980e+05\n",
      "50%      3.150910e+05\n",
      "75%      9.710280e+05\n",
      "max      5.896141e+07\n",
      "Name: views, dtype: float64\n"
     ]
    }
   ],
   "source": [
    "print(\"Basic statistics of the US YouTube views: \\n\")\n",
    "print(df_us_video_with_category_title.views.describe())\n",
    "\n",
    "print(\"\\nBasic statistics of the UK YouTube views: \\n\")\n",
    "print(df_uk_video_with_category_title.views.describe())"
   ]
  },
  {
   "cell_type": "markdown",
   "metadata": {},
   "source": [
    "* We observe that distributions of both US and UK views are right-skewed. \n",
    "* Few YouTube videos are virul with extermley high number of views.\n",
    "* The mean number of views in the US is 939,102; while the mean number of views in the UK is 1,110,467.\n",
    "* As there are some extreme number of views, standard deviation of both distribuitions are very high.\n",
    "* The standard deviation of the US views is 2,147,691, which 2.3 times larger than its mean."
   ]
  },
  {
   "cell_type": "code",
   "execution_count": null,
   "metadata": {},
   "outputs": [],
   "source": []
  },
  {
   "cell_type": "markdown",
   "metadata": {},
   "source": [
    "### Finding: Views versus likes according to video categories"
   ]
  },
  {
   "cell_type": "code",
   "execution_count": 36,
   "metadata": {},
   "outputs": [
    {
     "data": {
      "text/plain": [
       "Index(['video_id', 'title', 'channel_title', 'category_id', 'tags', 'views',\n",
       "       'likes', 'dislikes', 'comment_total', 'thumbnail_link', 'date',\n",
       "       'Category_title'],\n",
       "      dtype='object')"
      ]
     },
     "execution_count": 36,
     "metadata": {},
     "output_type": "execute_result"
    }
   ],
   "source": [
    "df_us_video_with_category_title.columns"
   ]
  },
  {
   "cell_type": "code",
   "execution_count": 37,
   "metadata": {},
   "outputs": [
    {
     "name": "stderr",
     "output_type": "stream",
     "text": [
      "C:\\Users\\elias\\Anaconda3\\lib\\site-packages\\ggplot\\utils.py:81: FutureWarning: pandas.tslib is deprecated and will be removed in a future version.\n",
      "You can access Timestamp as pandas.Timestamp\n",
      "  pd.tslib.Timestamp,\n"
     ]
    }
   ],
   "source": [
    "from ggplot import *"
   ]
  },
  {
   "cell_type": "code",
   "execution_count": 77,
   "metadata": {},
   "outputs": [
    {
     "name": "stderr",
     "output_type": "stream",
     "text": [
      "'c' argument looks like a single numeric RGB or RGBA sequence, which should be avoided as value-mapping will have precedence in case its length matches with 'x' & 'y'.  Please use a 2-D array with a single row if you really want to specify the same RGB or RGBA value for all points.\n",
      "'c' argument looks like a single numeric RGB or RGBA sequence, which should be avoided as value-mapping will have precedence in case its length matches with 'x' & 'y'.  Please use a 2-D array with a single row if you really want to specify the same RGB or RGBA value for all points.\n",
      "'c' argument looks like a single numeric RGB or RGBA sequence, which should be avoided as value-mapping will have precedence in case its length matches with 'x' & 'y'.  Please use a 2-D array with a single row if you really want to specify the same RGB or RGBA value for all points.\n",
      "'c' argument looks like a single numeric RGB or RGBA sequence, which should be avoided as value-mapping will have precedence in case its length matches with 'x' & 'y'.  Please use a 2-D array with a single row if you really want to specify the same RGB or RGBA value for all points.\n",
      "'c' argument looks like a single numeric RGB or RGBA sequence, which should be avoided as value-mapping will have precedence in case its length matches with 'x' & 'y'.  Please use a 2-D array with a single row if you really want to specify the same RGB or RGBA value for all points.\n",
      "'c' argument looks like a single numeric RGB or RGBA sequence, which should be avoided as value-mapping will have precedence in case its length matches with 'x' & 'y'.  Please use a 2-D array with a single row if you really want to specify the same RGB or RGBA value for all points.\n",
      "'c' argument looks like a single numeric RGB or RGBA sequence, which should be avoided as value-mapping will have precedence in case its length matches with 'x' & 'y'.  Please use a 2-D array with a single row if you really want to specify the same RGB or RGBA value for all points.\n",
      "'c' argument looks like a single numeric RGB or RGBA sequence, which should be avoided as value-mapping will have precedence in case its length matches with 'x' & 'y'.  Please use a 2-D array with a single row if you really want to specify the same RGB or RGBA value for all points.\n",
      "'c' argument looks like a single numeric RGB or RGBA sequence, which should be avoided as value-mapping will have precedence in case its length matches with 'x' & 'y'.  Please use a 2-D array with a single row if you really want to specify the same RGB or RGBA value for all points.\n",
      "'c' argument looks like a single numeric RGB or RGBA sequence, which should be avoided as value-mapping will have precedence in case its length matches with 'x' & 'y'.  Please use a 2-D array with a single row if you really want to specify the same RGB or RGBA value for all points.\n",
      "'c' argument looks like a single numeric RGB or RGBA sequence, which should be avoided as value-mapping will have precedence in case its length matches with 'x' & 'y'.  Please use a 2-D array with a single row if you really want to specify the same RGB or RGBA value for all points.\n",
      "'c' argument looks like a single numeric RGB or RGBA sequence, which should be avoided as value-mapping will have precedence in case its length matches with 'x' & 'y'.  Please use a 2-D array with a single row if you really want to specify the same RGB or RGBA value for all points.\n",
      "'c' argument looks like a single numeric RGB or RGBA sequence, which should be avoided as value-mapping will have precedence in case its length matches with 'x' & 'y'.  Please use a 2-D array with a single row if you really want to specify the same RGB or RGBA value for all points.\n",
      "'c' argument looks like a single numeric RGB or RGBA sequence, which should be avoided as value-mapping will have precedence in case its length matches with 'x' & 'y'.  Please use a 2-D array with a single row if you really want to specify the same RGB or RGBA value for all points.\n",
      "'c' argument looks like a single numeric RGB or RGBA sequence, which should be avoided as value-mapping will have precedence in case its length matches with 'x' & 'y'.  Please use a 2-D array with a single row if you really want to specify the same RGB or RGBA value for all points.\n",
      "'c' argument looks like a single numeric RGB or RGBA sequence, which should be avoided as value-mapping will have precedence in case its length matches with 'x' & 'y'.  Please use a 2-D array with a single row if you really want to specify the same RGB or RGBA value for all points.\n"
     ]
    },
    {
     "data": {
      "image/png": "[encoded data removed]",
      "text/plain": [
       "<Figure size 792x576 with 1 Axes>"
      ]
     },
     "metadata": {},
     "output_type": "display_data"
    },
    {
     "data": {
      "text/plain": [
       "<ggplot: (-9223371869355514389)>"
      ]
     },
     "execution_count": 77,
     "metadata": {},
     "output_type": "execute_result"
    }
   ],
   "source": [
    "ggplot(aes(x='views', y='likes', color=\"Category_title\"), data=df_us_video_with_category_title) + \\\n",
    "    geom_point(alpha=1.0) + \\\n",
    "    ggtitle(element_text(text=\"US views vs. likes by video category\", size=20)) + \\\n",
    "    xlab(element_text(text=\"US video views\",size=20)) + \\\n",
    "    ylab(element_text(text=\"US video likes\", size=20))\n",
    "# ggsave(\"Corr_.png\")\n",
    "# dev.off\n",
    "# plt.savefig(\"Corr_combined.png\", bbox_inches=\"tight\")\n",
    "#     scale_color_brewer(type='qual')"
   ]
  },
  {
   "cell_type": "markdown",
   "metadata": {},
   "source": [
    "* Above scatter plot shws the realtionship between number of views and number of likes by video categories.\n",
    "* These two variables are highly correlated - videos with more number of views have higher number of likes"
   ]
  },
  {
   "cell_type": "code",
   "execution_count": 39,
   "metadata": {},
   "outputs": [
    {
     "data": {
      "image/png": "[encoded data removed]",
      "text/plain": [
       "<Figure size 792x576 with 16 Axes>"
      ]
     },
     "metadata": {},
     "output_type": "display_data"
    },
    {
     "data": {
      "text/plain": [
       "<ggplot: (-9223371869357129335)>"
      ]
     },
     "execution_count": 39,
     "metadata": {},
     "output_type": "execute_result"
    }
   ],
   "source": [
    "plt.figure(figsize=(25,20))\n",
    "ggplot(aes(x='views', y='likes'), data=df_us_video_with_category_title) + \\\n",
    "    geom_point(alpha=0.6, color='blue') + \\\n",
    "    ggtitle(element_text(text=\"US views vs. likes by video category\", size=20)) + \\\n",
    "    facet_wrap(\"Category_title\") \n"
   ]
  },
  {
   "cell_type": "markdown",
   "metadata": {},
   "source": [
    "* Above figure shows individual category-wise relationship between number of views and number of likes.\n",
    "* We observe that music and entertainment have the highest number of views and likes."
   ]
  },
  {
   "cell_type": "markdown",
   "metadata": {},
   "source": [
    "### Finding: Correlation heatmap among US views, likes, dislikes, and total comments"
   ]
  },
  {
   "cell_type": "code",
   "execution_count": 40,
   "metadata": {},
   "outputs": [],
   "source": [
    "us_corr = df_us_video_with_category_title[['views', 'likes', 'dislikes', 'comment_total']].corr()"
   ]
  },
  {
   "cell_type": "code",
   "execution_count": 41,
   "metadata": {},
   "outputs": [
    {
     "name": "stdout",
     "output_type": "stream",
     "text": [
      "\n",
      "Correlation coeffecients amnong number of views, likes, dislikes, and comments are: \n",
      "\n",
      "                  views     likes  dislikes  comment_total\n",
      "views          1.000000  0.832854  0.541900       0.715559\n",
      "likes          0.832854  1.000000  0.497287       0.836366\n",
      "dislikes       0.541900  0.497287  1.000000       0.543974\n",
      "comment_total  0.715559  0.836366  0.543974       1.000000\n"
     ]
    }
   ],
   "source": [
    "print(\"\\nCorrelation coeffecients amnong number of views, likes, dislikes, and comments are: \\n\")\n",
    "print(us_corr)"
   ]
  },
  {
   "cell_type": "code",
   "execution_count": 78,
   "metadata": {},
   "outputs": [
    {
     "data": {
      "image/png": "[encoded data removed]",
      "text/plain": [
       "<Figure size 432x288 with 2 Axes>"
      ]
     },
     "metadata": {
      "needs_background": "light"
     },
     "output_type": "display_data"
    }
   ],
   "source": [
    "# sns.heatmap(us_corr)\n",
    "ax = sns.heatmap(\n",
    "    us_corr, \n",
    "    vmin=-1, vmax=1, center=0,\n",
    "    cmap=sns.diverging_palette(20, 220, n=200),\n",
    "    square=True\n",
    ")\n",
    "ax.set_xticklabels(\n",
    "    ax.get_xticklabels(),\n",
    "    rotation=45,\n",
    "    horizontalalignment='right'\n",
    ")\n",
    "plt.savefig(\"Corr_box.png\", bbox_inches=\"tight\")\n",
    "plt.show()"
   ]
  },
  {
   "cell_type": "markdown",
   "metadata": {},
   "source": [
    "* Correlation coefficient between number of likes and number of views is 0.83\n",
    "* Correlation coefficient between number of dislikes and number of views is 0.54\n",
    "* Correlation coefficient between number of comments and number of views is 0.72"
   ]
  },
  {
   "cell_type": "markdown",
   "metadata": {},
   "source": [
    "# Groupby date"
   ]
  },
  {
   "cell_type": "markdown",
   "metadata": {},
   "source": [
    "### Finding: US and UK video views per day"
   ]
  },
  {
   "cell_type": "code",
   "execution_count": 43,
   "metadata": {},
   "outputs": [],
   "source": [
    "vid_check = df_us_video_with_category_title[['video_id', 'date']].groupby('date').count()\n",
    "# vid_check.plot(kind=\"bar\")\n",
    "# vid_check.columns = ['Dates', 'Videos per date']"
   ]
  },
  {
   "cell_type": "code",
   "execution_count": 79,
   "metadata": {},
   "outputs": [
    {
     "data": {
      "image/png": "[encoded data removed]",
      "text/plain": [
       "<Figure size 1080x504 with 1 Axes>"
      ]
     },
     "metadata": {
      "needs_background": "light"
     },
     "output_type": "display_data"
    }
   ],
   "source": [
    "plt.figure(figsize=(15,7))\n",
    "plt.bar(x=vid_check.index, height=vid_check.video_id)\n",
    "plt.xticks(rotation = 90)\n",
    "plt.title(\"US views per day\", fontsize=20)\n",
    "plt.xlabel(\"Date\", fontsize=20)\n",
    "plt.ylabel(\"Number of views\", fontsize=20)\n",
    "plt.savefig(\"views_per_day.png\", bbox_inches=\"tight\")\n",
    "plt.show()"
   ]
  },
  {
   "cell_type": "markdown",
   "metadata": {},
   "source": [
    "* The dataset contains records for 40 days from September 13, 2017 to October 10, 2017.\n",
    "* Above bargraph shows per number of views of all videos.\n",
    "* The number of views per day is mostly 200."
   ]
  },
  {
   "cell_type": "code",
   "execution_count": 45,
   "metadata": {},
   "outputs": [
    {
     "data": {
      "text/html": [
       "<div>\n",
       "<style scoped>\n",
       "    .dataframe tbody tr th:only-of-type {\n",
       "        vertical-align: middle;\n",
       "    }\n",
       "\n",
       "    .dataframe tbody tr th {\n",
       "        vertical-align: top;\n",
       "    }\n",
       "\n",
       "    .dataframe thead th {\n",
       "        text-align: right;\n",
       "    }\n",
       "</style>\n",
       "<table border=\"1\" class=\"dataframe\">\n",
       "  <thead>\n",
       "    <tr style=\"text-align: right;\">\n",
       "      <th></th>\n",
       "      <th>video_id</th>\n",
       "    </tr>\n",
       "    <tr>\n",
       "      <th>date</th>\n",
       "      <th></th>\n",
       "    </tr>\n",
       "  </thead>\n",
       "  <tbody>\n",
       "    <tr>\n",
       "      <th>2017-09-13</th>\n",
       "      <td>200</td>\n",
       "    </tr>\n",
       "    <tr>\n",
       "      <th>2017-09-14</th>\n",
       "      <td>200</td>\n",
       "    </tr>\n",
       "    <tr>\n",
       "      <th>2017-09-15</th>\n",
       "      <td>200</td>\n",
       "    </tr>\n",
       "    <tr>\n",
       "      <th>2017-09-16</th>\n",
       "      <td>200</td>\n",
       "    </tr>\n",
       "    <tr>\n",
       "      <th>2017-09-17</th>\n",
       "      <td>200</td>\n",
       "    </tr>\n",
       "  </tbody>\n",
       "</table>\n",
       "</div>"
      ],
      "text/plain": [
       "            video_id\n",
       "date                \n",
       "2017-09-13       200\n",
       "2017-09-14       200\n",
       "2017-09-15       200\n",
       "2017-09-16       200\n",
       "2017-09-17       200"
      ]
     },
     "execution_count": 45,
     "metadata": {},
     "output_type": "execute_result"
    }
   ],
   "source": [
    "vid_check.head(n=5)"
   ]
  },
  {
   "cell_type": "markdown",
   "metadata": {},
   "source": [
    "### Finding: Trending US views"
   ]
  },
  {
   "cell_type": "code",
   "execution_count": 46,
   "metadata": {},
   "outputs": [],
   "source": [
    "from datetime import datetime\n",
    "sept_13_id = df_us_video_with_category_title.loc[df_us_video_with_category_title['date'] == datetime(2017,9,13), 'video_id'].tolist()\n",
    "sept_13 = df_us_video_with_category_title.loc[df_us_video_with_category_title['video_id'].isin(sept_13_id), ['video_id', 'date']]\n",
    "sept_13_count = sept_13.groupby('date', as_index=False).count() "
   ]
  },
  {
   "cell_type": "code",
   "execution_count": 47,
   "metadata": {},
   "outputs": [
    {
     "data": {
      "text/html": [
       "<div>\n",
       "<style scoped>\n",
       "    .dataframe tbody tr th:only-of-type {\n",
       "        vertical-align: middle;\n",
       "    }\n",
       "\n",
       "    .dataframe tbody tr th {\n",
       "        vertical-align: top;\n",
       "    }\n",
       "\n",
       "    .dataframe thead th {\n",
       "        text-align: right;\n",
       "    }\n",
       "</style>\n",
       "<table border=\"1\" class=\"dataframe\">\n",
       "  <thead>\n",
       "    <tr style=\"text-align: right;\">\n",
       "      <th></th>\n",
       "      <th>date</th>\n",
       "      <th>video_id</th>\n",
       "    </tr>\n",
       "  </thead>\n",
       "  <tbody>\n",
       "    <tr>\n",
       "      <th>0</th>\n",
       "      <td>2017-09-13</td>\n",
       "      <td>200</td>\n",
       "    </tr>\n",
       "    <tr>\n",
       "      <th>1</th>\n",
       "      <td>2017-09-14</td>\n",
       "      <td>151</td>\n",
       "    </tr>\n",
       "    <tr>\n",
       "      <th>2</th>\n",
       "      <td>2017-09-15</td>\n",
       "      <td>84</td>\n",
       "    </tr>\n",
       "    <tr>\n",
       "      <th>3</th>\n",
       "      <td>2017-09-16</td>\n",
       "      <td>38</td>\n",
       "    </tr>\n",
       "    <tr>\n",
       "      <th>4</th>\n",
       "      <td>2017-09-17</td>\n",
       "      <td>25</td>\n",
       "    </tr>\n",
       "    <tr>\n",
       "      <th>5</th>\n",
       "      <td>2017-09-18</td>\n",
       "      <td>14</td>\n",
       "    </tr>\n",
       "    <tr>\n",
       "      <th>6</th>\n",
       "      <td>2017-09-19</td>\n",
       "      <td>4</td>\n",
       "    </tr>\n",
       "  </tbody>\n",
       "</table>\n",
       "</div>"
      ],
      "text/plain": [
       "        date  video_id\n",
       "0 2017-09-13       200\n",
       "1 2017-09-14       151\n",
       "2 2017-09-15        84\n",
       "3 2017-09-16        38\n",
       "4 2017-09-17        25\n",
       "5 2017-09-18        14\n",
       "6 2017-09-19         4"
      ]
     },
     "execution_count": 47,
     "metadata": {},
     "output_type": "execute_result"
    }
   ],
   "source": [
    "sept_13_count"
   ]
  },
  {
   "cell_type": "code",
   "execution_count": 80,
   "metadata": {},
   "outputs": [
    {
     "data": {
      "image/png": "[encoded data removed]",
      "text/plain": [
       "<Figure size 864x504 with 1 Axes>"
      ]
     },
     "metadata": {
      "needs_background": "light"
     },
     "output_type": "display_data"
    }
   ],
   "source": [
    "plt.figure(figsize=(12,7))\n",
    "plt.bar(x=sept_13_count.date.dt.day, height=sept_13_count.video_id, width=0.5, color=\"red\", alpha=0.6)\n",
    "plt.xlabel(\"Date from September, 2017\", fontsize=20)\n",
    "plt.ylabel(\"Number of views\", fontsize=20)\n",
    "plt.title(\"Trending US videos starting from 2017-09-13\", fontsize=20)\n",
    "plt.grid(True)\n",
    "plt.savefig(\"Trend_video.png\", bbox_inches=\"tight\")\n",
    "plt.show()"
   ]
  },
  {
   "cell_type": "markdown",
   "metadata": {},
   "source": [
    "* Trending number of videos that starts high at Sep. 13, 2017 declines rapidly by Sep. 19, 2019. "
   ]
  },
  {
   "cell_type": "code",
   "execution_count": 49,
   "metadata": {},
   "outputs": [],
   "source": [
    "grpby_us_category_id = df_us_video.groupby('category_id')\n",
    "grpby_uk_category_id = df_uk_video.groupby('category_id')\n",
    "\n",
    "# US video cateory wise total views, likes, and dislikes\n",
    "\n",
    "df_us_video_category_wise_views = grpby_us_category_id[['views', 'likes', 'dislikes']].agg('sum')\n",
    "df_us_video_category_wise_views.reset_index(inplace=True)\n",
    "\n",
    "# UK video cateory wise total views, likes, and dislikes\n",
    "\n",
    "df_uk_video_category_wise_views = grpby_uk_category_id[['views', 'likes', 'dislikes']].agg('sum')\n",
    "df_uk_video_category_wise_views.reset_index(inplace=True)"
   ]
  },
  {
   "cell_type": "code",
   "execution_count": 50,
   "metadata": {},
   "outputs": [
    {
     "data": {
      "text/html": [
       "<div>\n",
       "<style scoped>\n",
       "    .dataframe tbody tr th:only-of-type {\n",
       "        vertical-align: middle;\n",
       "    }\n",
       "\n",
       "    .dataframe tbody tr th {\n",
       "        vertical-align: top;\n",
       "    }\n",
       "\n",
       "    .dataframe thead th {\n",
       "        text-align: right;\n",
       "    }\n",
       "</style>\n",
       "<table border=\"1\" class=\"dataframe\">\n",
       "  <thead>\n",
       "    <tr style=\"text-align: right;\">\n",
       "      <th></th>\n",
       "      <th>category_id</th>\n",
       "      <th>US_views</th>\n",
       "      <th>US_likes</th>\n",
       "      <th>US_dislikes</th>\n",
       "    </tr>\n",
       "  </thead>\n",
       "  <tbody>\n",
       "    <tr>\n",
       "      <th>0</th>\n",
       "      <td>1</td>\n",
       "      <td>392920664</td>\n",
       "      <td>8721068</td>\n",
       "      <td>434484</td>\n",
       "    </tr>\n",
       "    <tr>\n",
       "      <th>1</th>\n",
       "      <td>10</td>\n",
       "      <td>1475992648</td>\n",
       "      <td>76110117</td>\n",
       "      <td>2763057</td>\n",
       "    </tr>\n",
       "    <tr>\n",
       "      <th>2</th>\n",
       "      <td>15</td>\n",
       "      <td>75562909</td>\n",
       "      <td>1883089</td>\n",
       "      <td>33880</td>\n",
       "    </tr>\n",
       "  </tbody>\n",
       "</table>\n",
       "</div>"
      ],
      "text/plain": [
       "  category_id    US_views  US_likes  US_dislikes\n",
       "0           1   392920664   8721068       434484\n",
       "1          10  1475992648  76110117      2763057\n",
       "2          15    75562909   1883089        33880"
      ]
     },
     "execution_count": 50,
     "metadata": {},
     "output_type": "execute_result"
    }
   ],
   "source": [
    "df_us_video_category_wise_views.rename(columns={'views':'US_views', 'likes':'US_likes', 'dislikes':'US_dislikes'},\n",
    "                                      inplace=True)\n",
    "df_us_video_category_wise_views.head(3)"
   ]
  },
  {
   "cell_type": "code",
   "execution_count": 51,
   "metadata": {},
   "outputs": [
    {
     "data": {
      "text/html": [
       "<div>\n",
       "<style scoped>\n",
       "    .dataframe tbody tr th:only-of-type {\n",
       "        vertical-align: middle;\n",
       "    }\n",
       "\n",
       "    .dataframe tbody tr th {\n",
       "        vertical-align: top;\n",
       "    }\n",
       "\n",
       "    .dataframe thead th {\n",
       "        text-align: right;\n",
       "    }\n",
       "</style>\n",
       "<table border=\"1\" class=\"dataframe\">\n",
       "  <thead>\n",
       "    <tr style=\"text-align: right;\">\n",
       "      <th></th>\n",
       "      <th>category_id</th>\n",
       "      <th>UK_views</th>\n",
       "      <th>UK_likes</th>\n",
       "      <th>UK_dislikes</th>\n",
       "    </tr>\n",
       "  </thead>\n",
       "  <tbody>\n",
       "    <tr>\n",
       "      <th>0</th>\n",
       "      <td>1</td>\n",
       "      <td>429410126</td>\n",
       "      <td>8423787</td>\n",
       "      <td>392398</td>\n",
       "    </tr>\n",
       "    <tr>\n",
       "      <th>1</th>\n",
       "      <td>10</td>\n",
       "      <td>2696998135</td>\n",
       "      <td>114764546</td>\n",
       "      <td>3794279</td>\n",
       "    </tr>\n",
       "    <tr>\n",
       "      <th>2</th>\n",
       "      <td>15</td>\n",
       "      <td>82402075</td>\n",
       "      <td>1894583</td>\n",
       "      <td>36007</td>\n",
       "    </tr>\n",
       "  </tbody>\n",
       "</table>\n",
       "</div>"
      ],
      "text/plain": [
       "  category_id    UK_views   UK_likes  UK_dislikes\n",
       "0           1   429410126    8423787       392398\n",
       "1          10  2696998135  114764546      3794279\n",
       "2          15    82402075    1894583        36007"
      ]
     },
     "execution_count": 51,
     "metadata": {},
     "output_type": "execute_result"
    }
   ],
   "source": [
    "df_uk_video_category_wise_views.rename(columns={'views':'UK_views', 'likes':'UK_likes', 'dislikes':'UK_dislikes'},\n",
    "                                      inplace=True)\n",
    "df_uk_video_category_wise_views.head(3)"
   ]
  },
  {
   "cell_type": "code",
   "execution_count": 52,
   "metadata": {},
   "outputs": [],
   "source": [
    "df_us_video_category_wise_views.category_id = df_us_video_category_wise_views.category_id.astype('str', inplace=True)\n",
    "df_uk_video_category_wise_views.category_id = df_uk_video_category_wise_views.category_id.astype('str', inplace=True)"
   ]
  },
  {
   "cell_type": "code",
   "execution_count": 53,
   "metadata": {},
   "outputs": [],
   "source": [
    "df_us_video_category = pd.merge(df_us_video, df_category_title, how='outer',  on='category_id', sort=False)"
   ]
  },
  {
   "cell_type": "code",
   "execution_count": 54,
   "metadata": {},
   "outputs": [],
   "source": [
    "df_us_category_views = pd.merge(df_us_video_category_wise_views, df_category_title, left_on='category_id', right_on='category_id')\n",
    "df_uk_category_views = pd.merge(df_uk_video_category_wise_views, df_category_title, left_on='category_id', right_on='category_id')"
   ]
  },
  {
   "cell_type": "code",
   "execution_count": 55,
   "metadata": {},
   "outputs": [],
   "source": [
    "# df_us_category_views.head()"
   ]
  },
  {
   "cell_type": "code",
   "execution_count": 56,
   "metadata": {},
   "outputs": [],
   "source": [
    "# df_uk_category_views.head()"
   ]
  },
  {
   "cell_type": "markdown",
   "metadata": {},
   "source": [
    " <font color=\"green\"> US youtube videos: Category-wise total views, likes and dislikes "
   ]
  },
  {
   "cell_type": "markdown",
   "metadata": {},
   "source": [
    "### Finding: Category-wise top 5 US views are: \n",
    "    - Entertainment\n",
    "    - Music\n",
    "    - Comedy\n",
    "    - People \\& Blogs\n",
    "    - Sicence \\& Technology"
   ]
  },
  {
   "cell_type": "code",
   "execution_count": 57,
   "metadata": {},
   "outputs": [
    {
     "data": {
      "text/html": [
       "<div>\n",
       "<style scoped>\n",
       "    .dataframe tbody tr th:only-of-type {\n",
       "        vertical-align: middle;\n",
       "    }\n",
       "\n",
       "    .dataframe tbody tr th {\n",
       "        vertical-align: top;\n",
       "    }\n",
       "\n",
       "    .dataframe thead th {\n",
       "        text-align: right;\n",
       "    }\n",
       "</style>\n",
       "<table border=\"1\" class=\"dataframe\">\n",
       "  <thead>\n",
       "    <tr style=\"text-align: right;\">\n",
       "      <th></th>\n",
       "      <th>category_id</th>\n",
       "      <th>US_views</th>\n",
       "      <th>US_likes</th>\n",
       "      <th>US_dislikes</th>\n",
       "      <th>Category_title</th>\n",
       "    </tr>\n",
       "  </thead>\n",
       "  <tbody>\n",
       "    <tr>\n",
       "      <th>9</th>\n",
       "      <td>24</td>\n",
       "      <td>1848944372</td>\n",
       "      <td>55261042</td>\n",
       "      <td>3551122</td>\n",
       "      <td>Entertainment</td>\n",
       "    </tr>\n",
       "    <tr>\n",
       "      <th>1</th>\n",
       "      <td>10</td>\n",
       "      <td>1475992648</td>\n",
       "      <td>76110117</td>\n",
       "      <td>2763057</td>\n",
       "      <td>Music</td>\n",
       "    </tr>\n",
       "    <tr>\n",
       "      <th>8</th>\n",
       "      <td>23</td>\n",
       "      <td>936255337</td>\n",
       "      <td>43528592</td>\n",
       "      <td>1432895</td>\n",
       "      <td>Comedy</td>\n",
       "    </tr>\n",
       "    <tr>\n",
       "      <th>7</th>\n",
       "      <td>22</td>\n",
       "      <td>856891892</td>\n",
       "      <td>34603439</td>\n",
       "      <td>3243878</td>\n",
       "      <td>People &amp; Blogs</td>\n",
       "    </tr>\n",
       "    <tr>\n",
       "      <th>13</th>\n",
       "      <td>28</td>\n",
       "      <td>473462041</td>\n",
       "      <td>11725258</td>\n",
       "      <td>869399</td>\n",
       "      <td>Science &amp; Technology</td>\n",
       "    </tr>\n",
       "  </tbody>\n",
       "</table>\n",
       "</div>"
      ],
      "text/plain": [
       "   category_id    US_views  US_likes  US_dislikes        Category_title\n",
       "9           24  1848944372  55261042      3551122         Entertainment\n",
       "1           10  1475992648  76110117      2763057                 Music\n",
       "8           23   936255337  43528592      1432895                Comedy\n",
       "7           22   856891892  34603439      3243878        People & Blogs\n",
       "13          28   473462041  11725258       869399  Science & Technology"
      ]
     },
     "execution_count": 57,
     "metadata": {},
     "output_type": "execute_result"
    }
   ],
   "source": [
    "df_us_category_views.nlargest(n=5,columns='US_views')"
   ]
  },
  {
   "cell_type": "markdown",
   "metadata": {},
   "source": [
    "<font color=\"blue\"> Category wise total US views, likes and dislikes"
   ]
  },
  {
   "cell_type": "code",
   "execution_count": 58,
   "metadata": {},
   "outputs": [],
   "source": [
    "# df_us_category_views.plot(x='Category_title', y = ['US_views', 'US_likes', 'US_dislikes'], kind='bar', figsize=(15,5))\n",
    "# plt.yscale('log')\n",
    "# plt.ylabel('Views, likes, dislikes of US videos (log scale)', fontsize=15)\n",
    "# plt.title('US video: Category-wise number of views, likes, and dislikes', fontsize=15)\n",
    "# plt.show()"
   ]
  },
  {
   "cell_type": "markdown",
   "metadata": {},
   "source": [
    "## <font color=\"green\"> UK youtube videos: Category-wise total views, likes and dislikes"
   ]
  },
  {
   "cell_type": "markdown",
   "metadata": {},
   "source": [
    "<font color='blue'> Finding: Category-wise top total UK views are: \n",
    "    - Music \n",
    "    - Entertainment\n",
    "    - People \\& Blogs \n",
    "    - Comedy\n",
    "    - Howto \\& Style"
   ]
  },
  {
   "cell_type": "code",
   "execution_count": 59,
   "metadata": {},
   "outputs": [
    {
     "data": {
      "text/html": [
       "<div>\n",
       "<style scoped>\n",
       "    .dataframe tbody tr th:only-of-type {\n",
       "        vertical-align: middle;\n",
       "    }\n",
       "\n",
       "    .dataframe tbody tr th {\n",
       "        vertical-align: top;\n",
       "    }\n",
       "\n",
       "    .dataframe thead th {\n",
       "        text-align: right;\n",
       "    }\n",
       "</style>\n",
       "<table border=\"1\" class=\"dataframe\">\n",
       "  <thead>\n",
       "    <tr style=\"text-align: right;\">\n",
       "      <th></th>\n",
       "      <th>category_id</th>\n",
       "      <th>UK_views</th>\n",
       "      <th>UK_likes</th>\n",
       "      <th>UK_dislikes</th>\n",
       "      <th>Category_title</th>\n",
       "    </tr>\n",
       "  </thead>\n",
       "  <tbody>\n",
       "    <tr>\n",
       "      <th>1</th>\n",
       "      <td>10</td>\n",
       "      <td>2696998135</td>\n",
       "      <td>114764546</td>\n",
       "      <td>3794279</td>\n",
       "      <td>Music</td>\n",
       "    </tr>\n",
       "    <tr>\n",
       "      <th>9</th>\n",
       "      <td>24</td>\n",
       "      <td>2200309690</td>\n",
       "      <td>62058823</td>\n",
       "      <td>3921046</td>\n",
       "      <td>Entertainment</td>\n",
       "    </tr>\n",
       "    <tr>\n",
       "      <th>7</th>\n",
       "      <td>22</td>\n",
       "      <td>854759844</td>\n",
       "      <td>32498406</td>\n",
       "      <td>1182245</td>\n",
       "      <td>People &amp; Blogs</td>\n",
       "    </tr>\n",
       "    <tr>\n",
       "      <th>8</th>\n",
       "      <td>23</td>\n",
       "      <td>825336116</td>\n",
       "      <td>37603824</td>\n",
       "      <td>990192</td>\n",
       "      <td>Comedy</td>\n",
       "    </tr>\n",
       "    <tr>\n",
       "      <th>11</th>\n",
       "      <td>26</td>\n",
       "      <td>495865492</td>\n",
       "      <td>25088855</td>\n",
       "      <td>626590</td>\n",
       "      <td>Howto &amp; Style</td>\n",
       "    </tr>\n",
       "  </tbody>\n",
       "</table>\n",
       "</div>"
      ],
      "text/plain": [
       "   category_id    UK_views   UK_likes  UK_dislikes  Category_title\n",
       "1           10  2696998135  114764546      3794279           Music\n",
       "9           24  2200309690   62058823      3921046   Entertainment\n",
       "7           22   854759844   32498406      1182245  People & Blogs\n",
       "8           23   825336116   37603824       990192          Comedy\n",
       "11          26   495865492   25088855       626590   Howto & Style"
      ]
     },
     "execution_count": 59,
     "metadata": {},
     "output_type": "execute_result"
    }
   ],
   "source": [
    "df_uk_category_views.nlargest(n=5, columns= 'UK_views')"
   ]
  },
  {
   "cell_type": "code",
   "execution_count": 60,
   "metadata": {},
   "outputs": [],
   "source": [
    "# df_uk_category_views.plot(x='Category_title', y = ['UK_views', 'UK_likes', 'UK_dislikes'], kind='bar', figsize=(15,5))\n",
    "# plt.yscale('log')\n",
    "# plt.ylabel('Views, likes, dislikes of UK videos (log scale)', fontsize=15)\n",
    "# plt.title('UK video: Category-wise number of views, likes, and dislikes', fontsize=15)\n",
    "# plt.show()"
   ]
  },
  {
   "cell_type": "markdown",
   "metadata": {},
   "source": [
    "### Finding: Comparison of US and UK videos: Category-wise total views "
   ]
  },
  {
   "cell_type": "markdown",
   "metadata": {},
   "source": [
    "### Merge US and UK video views "
   ]
  },
  {
   "cell_type": "code",
   "execution_count": 61,
   "metadata": {},
   "outputs": [],
   "source": [
    "df_US_UK_views_cmp = pd.merge(df_us_category_views, df_uk_category_views, on='Category_title') "
   ]
  },
  {
   "cell_type": "code",
   "execution_count": 62,
   "metadata": {},
   "outputs": [
    {
     "data": {
      "text/html": [
       "<div>\n",
       "<style scoped>\n",
       "    .dataframe tbody tr th:only-of-type {\n",
       "        vertical-align: middle;\n",
       "    }\n",
       "\n",
       "    .dataframe tbody tr th {\n",
       "        vertical-align: top;\n",
       "    }\n",
       "\n",
       "    .dataframe thead th {\n",
       "        text-align: right;\n",
       "    }\n",
       "</style>\n",
       "<table border=\"1\" class=\"dataframe\">\n",
       "  <thead>\n",
       "    <tr style=\"text-align: right;\">\n",
       "      <th></th>\n",
       "      <th>category_id_x</th>\n",
       "      <th>US_views</th>\n",
       "      <th>US_likes</th>\n",
       "      <th>US_dislikes</th>\n",
       "      <th>Category_title</th>\n",
       "      <th>category_id_y</th>\n",
       "      <th>UK_views</th>\n",
       "      <th>UK_likes</th>\n",
       "      <th>UK_dislikes</th>\n",
       "    </tr>\n",
       "  </thead>\n",
       "  <tbody>\n",
       "    <tr>\n",
       "      <th>0</th>\n",
       "      <td>1</td>\n",
       "      <td>392920664</td>\n",
       "      <td>8721068</td>\n",
       "      <td>434484</td>\n",
       "      <td>Film &amp; Animation</td>\n",
       "      <td>1</td>\n",
       "      <td>429410126</td>\n",
       "      <td>8423787</td>\n",
       "      <td>392398</td>\n",
       "    </tr>\n",
       "    <tr>\n",
       "      <th>1</th>\n",
       "      <td>10</td>\n",
       "      <td>1475992648</td>\n",
       "      <td>76110117</td>\n",
       "      <td>2763057</td>\n",
       "      <td>Music</td>\n",
       "      <td>10</td>\n",
       "      <td>2696998135</td>\n",
       "      <td>114764546</td>\n",
       "      <td>3794279</td>\n",
       "    </tr>\n",
       "    <tr>\n",
       "      <th>2</th>\n",
       "      <td>15</td>\n",
       "      <td>75562909</td>\n",
       "      <td>1883089</td>\n",
       "      <td>33880</td>\n",
       "      <td>Pets &amp; Animals</td>\n",
       "      <td>15</td>\n",
       "      <td>82402075</td>\n",
       "      <td>1894583</td>\n",
       "      <td>36007</td>\n",
       "    </tr>\n",
       "  </tbody>\n",
       "</table>\n",
       "</div>"
      ],
      "text/plain": [
       "  category_id_x    US_views  US_likes  US_dislikes    Category_title  \\\n",
       "0             1   392920664   8721068       434484  Film & Animation   \n",
       "1            10  1475992648  76110117      2763057             Music   \n",
       "2            15    75562909   1883089        33880    Pets & Animals   \n",
       "\n",
       "  category_id_y    UK_views   UK_likes  UK_dislikes  \n",
       "0             1   429410126    8423787       392398  \n",
       "1            10  2696998135  114764546      3794279  \n",
       "2            15    82402075    1894583        36007  "
      ]
     },
     "execution_count": 62,
     "metadata": {},
     "output_type": "execute_result"
    }
   ],
   "source": [
    "df_US_UK_views_cmp.head(3)"
   ]
  },
  {
   "cell_type": "markdown",
   "metadata": {},
   "source": [
    "### Finding: We find that UK views of 'Music' and 'Entertainment' are higher than US views\n",
    "### But US views of 'News & Politics' and 'Science & Technology' are higher than UK views"
   ]
  },
  {
   "cell_type": "code",
   "execution_count": 81,
   "metadata": {},
   "outputs": [
    {
     "data": {
      "image/png": "[encoded data removed]",
      "text/plain": [
       "<Figure size 936x360 with 1 Axes>"
      ]
     },
     "metadata": {
      "needs_background": "light"
     },
     "output_type": "display_data"
    }
   ],
   "source": [
    "df_US_UK_views_cmp.plot(x=\"Category_title\", y=[\"US_views\", \"UK_views\"], kind='bar',figsize=(13,5))\n",
    "# plt.yscale('log')\n",
    "plt.ylabel(\"Number of views\")\n",
    "plt.grid(True)\n",
    "plt.savefig(\"comp_views.png\", bbox_inches=\"tight\")\n",
    "plt.show()"
   ]
  },
  {
   "cell_type": "markdown",
   "metadata": {},
   "source": [
    "### Comparison of US and UK 'likes' and 'dislikes'"
   ]
  },
  {
   "cell_type": "code",
   "execution_count": 82,
   "metadata": {},
   "outputs": [
    {
     "data": {
      "image/png": "[encoded data removed]",
      "text/plain": [
       "<Figure size 936x360 with 1 Axes>"
      ]
     },
     "metadata": {
      "needs_background": "light"
     },
     "output_type": "display_data"
    }
   ],
   "source": [
    "df_US_UK_views_cmp.plot(x=\"Category_title\", y=[\"US_likes\", \"UK_likes\"], kind=\"bar\", figsize=(13,5))\n",
    "# plt.yscale('log')\n",
    "plt.ylabel(\"Number of likes\")\n",
    "plt.grid(True)\n",
    "plt.savefig(\"likes_comp.png\", bbox_inches=\"tight\")\n",
    "plt.show()"
   ]
  },
  {
   "cell_type": "code",
   "execution_count": 83,
   "metadata": {},
   "outputs": [
    {
     "data": {
      "image/png": "[encoded data removed]",
      "text/plain": [
       "<Figure size 936x360 with 1 Axes>"
      ]
     },
     "metadata": {
      "needs_background": "light"
     },
     "output_type": "display_data"
    }
   ],
   "source": [
    "df_US_UK_views_cmp.plot(x=\"Category_title\", y=[\"US_dislikes\", \"UK_dislikes\"], kind=\"bar\", figsize=(13,5))\n",
    "# plt.yscale('log')\n",
    "plt.ylabel(\"Number of dislikes\")\n",
    "plt.grid(True)\n",
    "plt.savefig(\"dislikes.png\", bbox_inches=\"tight\")\n",
    "plt.show()"
   ]
  },
  {
   "cell_type": "code",
   "execution_count": 66,
   "metadata": {},
   "outputs": [],
   "source": [
    "# df_us_video_with_category_title.to_csv('df_us_video.csv', index=False)"
   ]
  },
  {
   "cell_type": "code",
   "execution_count": null,
   "metadata": {},
   "outputs": [],
   "source": []
  }
 ],
 "metadata": {
  "kernelspec": {
   "display_name": "Python 3",
   "language": "python",
   "name": "python3"
  },
  "language_info": {
   "codemirror_mode": {
    "name": "ipython",
    "version": 3
   },
   "file_extension": ".py",
   "mimetype": "text/x-python",
   "name": "python",
   "nbconvert_exporter": "python",
   "pygments_lexer": "ipython3",
   "version": "3.7.1"
  }
 },
 "nbformat": 4,
 "nbformat_minor": 2
}
