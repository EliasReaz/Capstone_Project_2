{
 "cells": [
  {
   "cell_type": "markdown",
   "metadata": {},
   "source": [
    "### Running the random forest model with label enconder\n",
    "* __November 2, 2019__\n",
    "* last Update **Decemebr 4, 2019**"
   ]
  },
  {
   "cell_type": "code",
   "execution_count": 1,
   "metadata": {},
   "outputs": [],
   "source": [
    "from sklearn.ensemble import RandomForestClassifier\n",
    "from sklearn.model_selection import RandomizedSearchCV\n",
    "from sklearn.model_selection import GridSearchCV\n",
    "from sklearn.model_selection import learning_curve\n",
    "from sklearn import preprocessing\n",
    "from datetime import datetime\n",
    "\n",
    "import pandas as pd\n",
    "import numpy as np\n",
    "import matplotlib.pyplot as plt\n",
    "import matplotlib as mpl"
   ]
  },
  {
   "cell_type": "markdown",
   "metadata": {},
   "source": [
    "### Read train data"
   ]
  },
  {
   "cell_type": "code",
   "execution_count": 2,
   "metadata": {},
   "outputs": [],
   "source": [
    "X_train = pd.read_csv(\"X_train_df_2.csv\")\n",
    "y_train = pd.read_csv(\"y_train_df_2.csv\")"
   ]
  },
  {
   "cell_type": "code",
   "execution_count": 3,
   "metadata": {},
   "outputs": [
    {
     "data": {
      "text/html": [
       "<div>\n",
       "<style scoped>\n",
       "    .dataframe tbody tr th:only-of-type {\n",
       "        vertical-align: middle;\n",
       "    }\n",
       "\n",
       "    .dataframe tbody tr th {\n",
       "        vertical-align: top;\n",
       "    }\n",
       "\n",
       "    .dataframe thead th {\n",
       "        text-align: right;\n",
       "    }\n",
       "</style>\n",
       "<table border=\"1\" class=\"dataframe\">\n",
       "  <thead>\n",
       "    <tr style=\"text-align: right;\">\n",
       "      <th></th>\n",
       "      <th>channel_title</th>\n",
       "      <th>category</th>\n",
       "      <th>views</th>\n",
       "      <th>likes</th>\n",
       "      <th>dislikes</th>\n",
       "      <th>comment_total</th>\n",
       "      <th>day</th>\n",
       "      <th>month</th>\n",
       "      <th>weekday_weekend</th>\n",
       "    </tr>\n",
       "  </thead>\n",
       "  <tbody>\n",
       "    <tr>\n",
       "      <th>0</th>\n",
       "      <td>478.0</td>\n",
       "      <td>3.0</td>\n",
       "      <td>0.029405</td>\n",
       "      <td>0.007717</td>\n",
       "      <td>0.001975</td>\n",
       "      <td>0.013207</td>\n",
       "      <td>4.0</td>\n",
       "      <td>0.0</td>\n",
       "      <td>0.0</td>\n",
       "    </tr>\n",
       "    <tr>\n",
       "      <th>1</th>\n",
       "      <td>760.0</td>\n",
       "      <td>8.0</td>\n",
       "      <td>0.164226</td>\n",
       "      <td>0.014618</td>\n",
       "      <td>0.035958</td>\n",
       "      <td>0.028425</td>\n",
       "      <td>4.0</td>\n",
       "      <td>1.0</td>\n",
       "      <td>0.0</td>\n",
       "    </tr>\n",
       "    <tr>\n",
       "      <th>2</th>\n",
       "      <td>895.0</td>\n",
       "      <td>3.0</td>\n",
       "      <td>0.216898</td>\n",
       "      <td>0.019497</td>\n",
       "      <td>0.009092</td>\n",
       "      <td>0.005394</td>\n",
       "      <td>2.0</td>\n",
       "      <td>0.0</td>\n",
       "      <td>1.0</td>\n",
       "    </tr>\n",
       "    <tr>\n",
       "      <th>3</th>\n",
       "      <td>32.0</td>\n",
       "      <td>7.0</td>\n",
       "      <td>0.027132</td>\n",
       "      <td>0.025938</td>\n",
       "      <td>0.000206</td>\n",
       "      <td>0.019794</td>\n",
       "      <td>6.0</td>\n",
       "      <td>0.0</td>\n",
       "      <td>0.0</td>\n",
       "    </tr>\n",
       "    <tr>\n",
       "      <th>4</th>\n",
       "      <td>811.0</td>\n",
       "      <td>3.0</td>\n",
       "      <td>0.924722</td>\n",
       "      <td>0.458274</td>\n",
       "      <td>0.033325</td>\n",
       "      <td>0.243302</td>\n",
       "      <td>1.0</td>\n",
       "      <td>0.0</td>\n",
       "      <td>0.0</td>\n",
       "    </tr>\n",
       "  </tbody>\n",
       "</table>\n",
       "</div>"
      ],
      "text/plain": [
       "   channel_title  category     views     likes  dislikes  comment_total  day  \\\n",
       "0          478.0       3.0  0.029405  0.007717  0.001975       0.013207  4.0   \n",
       "1          760.0       8.0  0.164226  0.014618  0.035958       0.028425  4.0   \n",
       "2          895.0       3.0  0.216898  0.019497  0.009092       0.005394  2.0   \n",
       "3           32.0       7.0  0.027132  0.025938  0.000206       0.019794  6.0   \n",
       "4          811.0       3.0  0.924722  0.458274  0.033325       0.243302  1.0   \n",
       "\n",
       "   month  weekday_weekend  \n",
       "0    0.0              0.0  \n",
       "1    1.0              0.0  \n",
       "2    0.0              1.0  \n",
       "3    0.0              0.0  \n",
       "4    0.0              0.0  "
      ]
     },
     "execution_count": 3,
     "metadata": {},
     "output_type": "execute_result"
    }
   ],
   "source": [
    "X_train.head()"
   ]
  },
  {
   "cell_type": "code",
   "execution_count": 4,
   "metadata": {},
   "outputs": [],
   "source": [
    "X_train.drop(columns=[\"views\"], inplace=True)"
   ]
  },
  {
   "cell_type": "code",
   "execution_count": 5,
   "metadata": {},
   "outputs": [
    {
     "name": "stdout",
     "output_type": "stream",
     "text": [
      "Shape of predictor training data:  (4849, 8)\n",
      "Shape of response training data:  (4849, 1)\n"
     ]
    }
   ],
   "source": [
    "print(\"Shape of predictor training data: \", X_train.shape)\n",
    "print(\"Shape of response training data: \", y_train.shape)"
   ]
  },
  {
   "cell_type": "code",
   "execution_count": 6,
   "metadata": {},
   "outputs": [
    {
     "name": "stdout",
     "output_type": "stream",
     "text": [
      "========== info() of features of training dataframe ================\n",
      "<class 'pandas.core.frame.DataFrame'>\n",
      "RangeIndex: 4849 entries, 0 to 4848\n",
      "Data columns (total 8 columns):\n",
      "channel_title      4849 non-null float64\n",
      "category           4849 non-null float64\n",
      "likes              4849 non-null float64\n",
      "dislikes           4849 non-null float64\n",
      "comment_total      4849 non-null float64\n",
      "day                4849 non-null float64\n",
      "month              4849 non-null float64\n",
      "weekday_weekend    4849 non-null float64\n",
      "dtypes: float64(8)\n",
      "memory usage: 303.1 KB\n",
      "None\n",
      "=========== info() of response of training dataframe ===============\n",
      "<class 'pandas.core.frame.DataFrame'>\n",
      "RangeIndex: 4849 entries, 0 to 4848\n",
      "Data columns (total 1 columns):\n",
      "viewer_class    4849 non-null int64\n",
      "dtypes: int64(1)\n",
      "memory usage: 38.0 KB\n",
      "None\n",
      "==========================\n",
      "Training features/predictors:\n",
      "==========================\n",
      "   channel_title  category     likes  dislikes  comment_total  day  month  \\\n",
      "0          478.0       3.0  0.007717  0.001975       0.013207  4.0    0.0   \n",
      "1          760.0       8.0  0.014618  0.035958       0.028425  4.0    1.0   \n",
      "2          895.0       3.0  0.019497  0.009092       0.005394  2.0    0.0   \n",
      "3           32.0       7.0  0.025938  0.000206       0.019794  6.0    0.0   \n",
      "4          811.0       3.0  0.458274  0.033325       0.243302  1.0    0.0   \n",
      "\n",
      "   weekday_weekend  \n",
      "0              0.0  \n",
      "1              0.0  \n",
      "2              1.0  \n",
      "3              0.0  \n",
      "4              0.0  \n",
      "==========================\n",
      "Training response:\n",
      "==========================\n",
      "   viewer_class\n",
      "0             2\n",
      "1             3\n",
      "2             1\n",
      "3             2\n",
      "4             0\n"
     ]
    }
   ],
   "source": [
    "print(\"========== info() of features of training dataframe ================\")\n",
    "print(X_train.info())\n",
    "print(\"=========== info() of response of training dataframe ===============\")\n",
    "print(y_train.info())\n",
    "print(\"==========================\")\n",
    "print(\"Training features/predictors:\")\n",
    "print(\"==========================\")\n",
    "print(X_train.head())\n",
    "print(\"==========================\")\n",
    "print(\"Training response:\")\n",
    "print(\"==========================\")\n",
    "print(y_train.head())"
   ]
  },
  {
   "cell_type": "code",
   "execution_count": 7,
   "metadata": {},
   "outputs": [
    {
     "data": {
      "text/html": [
       "<div>\n",
       "<style scoped>\n",
       "    .dataframe tbody tr th:only-of-type {\n",
       "        vertical-align: middle;\n",
       "    }\n",
       "\n",
       "    .dataframe tbody tr th {\n",
       "        vertical-align: top;\n",
       "    }\n",
       "\n",
       "    .dataframe thead th {\n",
       "        text-align: right;\n",
       "    }\n",
       "</style>\n",
       "<table border=\"1\" class=\"dataframe\">\n",
       "  <thead>\n",
       "    <tr style=\"text-align: right;\">\n",
       "      <th></th>\n",
       "      <th>channel_title</th>\n",
       "      <th>category</th>\n",
       "      <th>likes</th>\n",
       "      <th>dislikes</th>\n",
       "      <th>comment_total</th>\n",
       "      <th>day</th>\n",
       "      <th>month</th>\n",
       "      <th>weekday_weekend</th>\n",
       "    </tr>\n",
       "  </thead>\n",
       "  <tbody>\n",
       "    <tr>\n",
       "      <th>0</th>\n",
       "      <td>478.0</td>\n",
       "      <td>3.0</td>\n",
       "      <td>0.007717</td>\n",
       "      <td>0.001975</td>\n",
       "      <td>0.013207</td>\n",
       "      <td>4.0</td>\n",
       "      <td>0.0</td>\n",
       "      <td>0.0</td>\n",
       "    </tr>\n",
       "    <tr>\n",
       "      <th>1</th>\n",
       "      <td>760.0</td>\n",
       "      <td>8.0</td>\n",
       "      <td>0.014618</td>\n",
       "      <td>0.035958</td>\n",
       "      <td>0.028425</td>\n",
       "      <td>4.0</td>\n",
       "      <td>1.0</td>\n",
       "      <td>0.0</td>\n",
       "    </tr>\n",
       "    <tr>\n",
       "      <th>2</th>\n",
       "      <td>895.0</td>\n",
       "      <td>3.0</td>\n",
       "      <td>0.019497</td>\n",
       "      <td>0.009092</td>\n",
       "      <td>0.005394</td>\n",
       "      <td>2.0</td>\n",
       "      <td>0.0</td>\n",
       "      <td>1.0</td>\n",
       "    </tr>\n",
       "    <tr>\n",
       "      <th>3</th>\n",
       "      <td>32.0</td>\n",
       "      <td>7.0</td>\n",
       "      <td>0.025938</td>\n",
       "      <td>0.000206</td>\n",
       "      <td>0.019794</td>\n",
       "      <td>6.0</td>\n",
       "      <td>0.0</td>\n",
       "      <td>0.0</td>\n",
       "    </tr>\n",
       "    <tr>\n",
       "      <th>4</th>\n",
       "      <td>811.0</td>\n",
       "      <td>3.0</td>\n",
       "      <td>0.458274</td>\n",
       "      <td>0.033325</td>\n",
       "      <td>0.243302</td>\n",
       "      <td>1.0</td>\n",
       "      <td>0.0</td>\n",
       "      <td>0.0</td>\n",
       "    </tr>\n",
       "  </tbody>\n",
       "</table>\n",
       "</div>"
      ],
      "text/plain": [
       "   channel_title  category     likes  dislikes  comment_total  day  month  \\\n",
       "0          478.0       3.0  0.007717  0.001975       0.013207  4.0    0.0   \n",
       "1          760.0       8.0  0.014618  0.035958       0.028425  4.0    1.0   \n",
       "2          895.0       3.0  0.019497  0.009092       0.005394  2.0    0.0   \n",
       "3           32.0       7.0  0.025938  0.000206       0.019794  6.0    0.0   \n",
       "4          811.0       3.0  0.458274  0.033325       0.243302  1.0    0.0   \n",
       "\n",
       "   weekday_weekend  \n",
       "0              0.0  \n",
       "1              0.0  \n",
       "2              1.0  \n",
       "3              0.0  \n",
       "4              0.0  "
      ]
     },
     "execution_count": 7,
     "metadata": {},
     "output_type": "execute_result"
    }
   ],
   "source": [
    "X_train.head()"
   ]
  },
  {
   "cell_type": "code",
   "execution_count": 8,
   "metadata": {},
   "outputs": [
    {
     "data": {
      "text/html": [
       "<div>\n",
       "<style scoped>\n",
       "    .dataframe tbody tr th:only-of-type {\n",
       "        vertical-align: middle;\n",
       "    }\n",
       "\n",
       "    .dataframe tbody tr th {\n",
       "        vertical-align: top;\n",
       "    }\n",
       "\n",
       "    .dataframe thead th {\n",
       "        text-align: right;\n",
       "    }\n",
       "</style>\n",
       "<table border=\"1\" class=\"dataframe\">\n",
       "  <thead>\n",
       "    <tr style=\"text-align: right;\">\n",
       "      <th></th>\n",
       "      <th>viewer_class</th>\n",
       "    </tr>\n",
       "  </thead>\n",
       "  <tbody>\n",
       "    <tr>\n",
       "      <th>0</th>\n",
       "      <td>2</td>\n",
       "    </tr>\n",
       "    <tr>\n",
       "      <th>1</th>\n",
       "      <td>3</td>\n",
       "    </tr>\n",
       "    <tr>\n",
       "      <th>2</th>\n",
       "      <td>1</td>\n",
       "    </tr>\n",
       "    <tr>\n",
       "      <th>3</th>\n",
       "      <td>2</td>\n",
       "    </tr>\n",
       "    <tr>\n",
       "      <th>4</th>\n",
       "      <td>0</td>\n",
       "    </tr>\n",
       "  </tbody>\n",
       "</table>\n",
       "</div>"
      ],
      "text/plain": [
       "   viewer_class\n",
       "0             2\n",
       "1             3\n",
       "2             1\n",
       "3             2\n",
       "4             0"
      ]
     },
     "execution_count": 8,
     "metadata": {},
     "output_type": "execute_result"
    }
   ],
   "source": [
    "y_train.head()"
   ]
  },
  {
   "cell_type": "markdown",
   "metadata": {},
   "source": [
    "### random forest hyperparameters"
   ]
  },
  {
   "cell_type": "markdown",
   "metadata": {},
   "source": [
    "  * n_estimator:  number of trees in the forest\n",
    "  * max_features: maximum number of features considered for splitting a node\n",
    "  * max_depth:    maximum number of levels in each decision trees\n",
    "  * min_sample_leafs: min. number of data point allowed in a leaf node\n",
    "  * min_sample_spilts: min. number of data points placed in a leaf before before the node is split\n",
    "  * bootstrap: method of sampling data point (with or without replacement)"
   ]
  },
  {
   "cell_type": "code",
   "execution_count": 9,
   "metadata": {},
   "outputs": [],
   "source": [
    "from pprint import pprint"
   ]
  },
  {
   "cell_type": "markdown",
   "metadata": {},
   "source": [
    "### Randomized search cross-validation"
   ]
  },
  {
   "cell_type": "code",
   "execution_count": 10,
   "metadata": {},
   "outputs": [
    {
     "name": "stdout",
     "output_type": "stream",
     "text": [
      "{'bootstrap': [True],\n",
      " 'max_depth': [700, 1000, None],\n",
      " 'max_features': ['auto', 'sqrt', 'log2'],\n",
      " 'min_samples_leaf': [4, 8],\n",
      " 'min_samples_split': [5, 10],\n",
      " 'n_estimators': [700, 1000]}\n"
     ]
    }
   ],
   "source": [
    "# Number of trees in random forest\n",
    "n_estimators = [int(x) for x in np.linspace(start = 700, stop = 1000, num = 2)]\n",
    "# Number of features to consider at every split\n",
    "max_features = ['auto', 'sqrt', 'log2']\n",
    "# Maximum number of levels in tree\n",
    "max_depth = [int(x) for x in np.linspace(700, 1000, num = 2)]\n",
    "max_depth.append(None)\n",
    "# Minimum number of samples required to split a node\n",
    "min_samples_split = [ 5, 10]\n",
    "# Minimum number of samples required at each leaf node\n",
    "min_samples_leaf = [ 4, 8]\n",
    "# Method of selecting samples for training each tree\n",
    "bootstrap = [True]\n",
    "# Create the random grid\n",
    "random_grid = {'n_estimators': n_estimators,\n",
    "               'max_features': max_features,\n",
    "               'max_depth': max_depth,\n",
    "               'min_samples_split': min_samples_split,\n",
    "               'min_samples_leaf': min_samples_leaf,\n",
    "               'bootstrap': bootstrap}\n",
    "pprint(random_grid)"
   ]
  },
  {
   "cell_type": "code",
   "execution_count": 11,
   "metadata": {},
   "outputs": [],
   "source": [
    "# Use the random grid to search for best hyperparameters\n",
    "# First create the base model to tune\n",
    "rf_cls = RandomForestClassifier(random_state=42, oob_score=True)\n",
    "# Random search of parameters, using 5 fold cross validation, \n",
    "# search across 100 different combinations, and use all available cores\n",
    "rf_random = RandomizedSearchCV(estimator = rf_cls, param_distributions = random_grid, n_iter = 10, cv = 5, random_state=0) #, verbose=2,  n_jobs = -1)"
   ]
  },
  {
   "cell_type": "code",
   "execution_count": 12,
   "metadata": {},
   "outputs": [
    {
     "name": "stdout",
     "output_type": "stream",
     "text": [
      "RandomForestClassifier(bootstrap=True, class_weight=None, criterion='gini',\n",
      "            max_depth=None, max_features='auto', max_leaf_nodes=None,\n",
      "            min_impurity_decrease=0.0, min_impurity_split=None,\n",
      "            min_samples_leaf=1, min_samples_split=2,\n",
      "            min_weight_fraction_leaf=0.0, n_estimators='warn', n_jobs=None,\n",
      "            oob_score=True, random_state=42, verbose=0, warm_start=False)\n"
     ]
    }
   ],
   "source": [
    "print(rf_cls)"
   ]
  },
  {
   "cell_type": "code",
   "execution_count": 13,
   "metadata": {},
   "outputs": [
    {
     "name": "stdout",
     "output_type": "stream",
     "text": [
      "RandomizedSearchCV(cv=5, error_score='raise-deprecating',\n",
      "          estimator=RandomForestClassifier(bootstrap=True, class_weight=None, criterion='gini',\n",
      "            max_depth=None, max_features='auto', max_leaf_nodes=None,\n",
      "            min_impurity_decrease=0.0, min_impurity_split=None,\n",
      "            min_samples_leaf=1, min_samples_split=2,\n",
      "            min_weight_fraction_leaf=0.0, n_estimators='warn', n_jobs=None,\n",
      "            oob_score=True, random_state=42, verbose=0, warm_start=False),\n",
      "          fit_params=None, iid='warn', n_iter=10, n_jobs=None,\n",
      "          param_distributions={'n_estimators': [700, 1000], 'max_features': ['auto', 'sqrt', 'log2'], 'max_depth': [700, 1000, None], 'min_samples_split': [5, 10], 'min_samples_leaf': [4, 8], 'bootstrap': [True]},\n",
      "          pre_dispatch='2*n_jobs', random_state=0, refit=True,\n",
      "          return_train_score='warn', scoring=None, verbose=0)\n"
     ]
    }
   ],
   "source": [
    "print(rf_random)"
   ]
  },
  {
   "cell_type": "code",
   "execution_count": 14,
   "metadata": {},
   "outputs": [],
   "source": [
    "# y_train.values.ravel()"
   ]
  },
  {
   "cell_type": "code",
   "execution_count": 15,
   "metadata": {},
   "outputs": [
    {
     "name": "stdout",
     "output_type": "stream",
     "text": [
      "Execution time: 0:03:38.269873\n"
     ]
    }
   ],
   "source": [
    "t_start = datetime.now()\n",
    "\n",
    "# Fit the random search model\n",
    "rf_random.fit(X_train, y_train.values.ravel())\n",
    "\n",
    "t_end = datetime.now()\n",
    "print(\"Execution time: {}\".format(t_end  - t_start))"
   ]
  },
  {
   "cell_type": "code",
   "execution_count": 16,
   "metadata": {},
   "outputs": [],
   "source": [
    "# dir(rf_random.cv_results_)"
   ]
  },
  {
   "cell_type": "code",
   "execution_count": 17,
   "metadata": {},
   "outputs": [
    {
     "data": {
      "text/plain": [
       "dict_keys(['mean_fit_time', 'std_fit_time', 'mean_score_time', 'std_score_time', 'param_n_estimators', 'param_min_samples_split', 'param_min_samples_leaf', 'param_max_features', 'param_max_depth', 'param_bootstrap', 'params', 'split0_test_score', 'split1_test_score', 'split2_test_score', 'split3_test_score', 'split4_test_score', 'mean_test_score', 'std_test_score', 'rank_test_score', 'split0_train_score', 'split1_train_score', 'split2_train_score', 'split3_train_score', 'split4_train_score', 'mean_train_score', 'std_train_score'])"
      ]
     },
     "execution_count": 17,
     "metadata": {},
     "output_type": "execute_result"
    }
   ],
   "source": [
    "rf_random.cv_results_.keys()"
   ]
  },
  {
   "cell_type": "code",
   "execution_count": 18,
   "metadata": {},
   "outputs": [],
   "source": [
    "# rf_random.cv_results_['params']"
   ]
  },
  {
   "cell_type": "markdown",
   "metadata": {},
   "source": [
    "### mean train score"
   ]
  },
  {
   "cell_type": "code",
   "execution_count": 19,
   "metadata": {},
   "outputs": [
    {
     "name": "stderr",
     "output_type": "stream",
     "text": [
      "C:\\Users\\elias\\Anaconda3\\lib\\site-packages\\sklearn\\utils\\deprecation.py:125: FutureWarning: You are accessing a training score ('mean_train_score'), which will not be available by default any more in 0.21. If you need training scores, please set return_train_score=True\n",
      "  warnings.warn(*warn_args, **warn_kwargs)\n"
     ]
    },
    {
     "data": {
      "text/plain": [
       "array([0.8893069 , 0.89075055, 0.9015264 , 0.8309441 , 0.82217893,\n",
       "       0.89075055, 0.8223338 , 0.89075055, 0.8893069 , 0.83099544])"
      ]
     },
     "execution_count": 19,
     "metadata": {},
     "output_type": "execute_result"
    }
   ],
   "source": [
    "rf_random.cv_results_['mean_train_score']"
   ]
  },
  {
   "cell_type": "markdown",
   "metadata": {},
   "source": [
    "### mean test score"
   ]
  },
  {
   "cell_type": "code",
   "execution_count": 20,
   "metadata": {},
   "outputs": [
    {
     "data": {
      "text/plain": [
       "array([0.71581769, 0.71602392, 0.71973603, 0.70756857, 0.69375129,\n",
       "       0.71602392, 0.69292638, 0.71602392, 0.71581769, 0.7077748 ])"
      ]
     },
     "execution_count": 20,
     "metadata": {},
     "output_type": "execute_result"
    }
   ],
   "source": [
    "rf_random.cv_results_['mean_test_score']"
   ]
  },
  {
   "cell_type": "code",
   "execution_count": 21,
   "metadata": {},
   "outputs": [
    {
     "data": {
      "text/plain": [
       "{'n_estimators': 700,\n",
       " 'min_samples_split': 5,\n",
       " 'min_samples_leaf': 4,\n",
       " 'max_features': 'auto',\n",
       " 'max_depth': None,\n",
       " 'bootstrap': True}"
      ]
     },
     "execution_count": 21,
     "metadata": {},
     "output_type": "execute_result"
    }
   ],
   "source": [
    "rf_random.best_params_"
   ]
  },
  {
   "cell_type": "markdown",
   "metadata": {},
   "source": [
    "### best test score"
   ]
  },
  {
   "cell_type": "code",
   "execution_count": 22,
   "metadata": {},
   "outputs": [
    {
     "data": {
      "text/plain": [
       "0.71973602804702"
      ]
     },
     "execution_count": 22,
     "metadata": {},
     "output_type": "execute_result"
    }
   ],
   "source": [
    "rf_random.best_score_"
   ]
  },
  {
   "cell_type": "markdown",
   "metadata": {},
   "source": [
    "### save the best parameters"
   ]
  },
  {
   "cell_type": "code",
   "execution_count": 23,
   "metadata": {},
   "outputs": [],
   "source": [
    "import joblib"
   ]
  },
  {
   "cell_type": "code",
   "execution_count": 24,
   "metadata": {},
   "outputs": [
    {
     "data": {
      "text/plain": [
       "['RF_3.pkl']"
      ]
     },
     "execution_count": 24,
     "metadata": {},
     "output_type": "execute_result"
    }
   ],
   "source": [
    "joblib.dump(rf_random.best_estimator_, 'RF_3.pkl')"
   ]
  },
  {
   "cell_type": "code",
   "execution_count": null,
   "metadata": {},
   "outputs": [],
   "source": []
  },
  {
   "cell_type": "code",
   "execution_count": null,
   "metadata": {},
   "outputs": [],
   "source": []
  }
 ],
 "metadata": {
  "kernelspec": {
   "display_name": "Python 3",
   "language": "python",
   "name": "python3"
  },
  "language_info": {
   "codemirror_mode": {
    "name": "ipython",
    "version": 3
   },
   "file_extension": ".py",
   "mimetype": "text/x-python",
   "name": "python",
   "nbconvert_exporter": "python",
   "pygments_lexer": "ipython3",
   "version": "3.7.1"
  }
 },
 "nbformat": 4,
 "nbformat_minor": 2
}
