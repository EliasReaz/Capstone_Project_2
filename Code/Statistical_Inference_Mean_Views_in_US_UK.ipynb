{
 "cells": [
  {
   "cell_type": "markdown",
   "metadata": {},
   "source": [
    "<p style = \"font-family: Arial; font-size:1.75em;color:blue;font-size:bold\">\n",
    "    Statistical Inference: Are mean YouTube views in the US and UK significantly different? \n",
    "    <br>\n",
    "</p>    \n",
    "\n",
    "[YouTube Dataset link](https://www.kaggle.com/datasnaek/youtube)"
   ]
  },
  {
   "cell_type": "markdown",
   "metadata": {},
   "source": [
    "* $\\mu_1$ = mean number of US YouTube views\n",
    "* $\\mu_2$ = mean number of UK YouTube views\n",
    "\n",
    "\n",
    "\n",
    "* Null hypothesis,       $H_0$: $\\mu_1 - \\mu_2 = 0$\n",
    "* Alternative hypotheis, $H_1$: $\\mu_1 - \\mu_2 \\neq 0$\n",
    "* Confidence level, $\\alpha$ = 5%"
   ]
  },
  {
   "cell_type": "code",
   "execution_count": 1,
   "metadata": {},
   "outputs": [],
   "source": [
    "import numpy as np\n",
    "import matplotlib as mpl\n",
    "import matplotlib.pyplot as plt\n",
    "import seaborn as sns\n",
    "import pandas as pd\n",
    "# import glob\n",
    "\n",
    "mpl.rc('axes', labelsize=14)\n",
    "mpl.rc('xtick', labelsize=12)\n",
    "mpl.rc('ytick', labelsize=12)\n",
    "\n",
    "pd.set_option(\"display.max_columns\", 100)\n",
    "pd.set_option('display.max_colwidth', 100)\n"
   ]
  },
  {
   "cell_type": "markdown",
   "metadata": {},
   "source": [
    "#### load US dataset"
   ]
  },
  {
   "cell_type": "code",
   "execution_count": 2,
   "metadata": {},
   "outputs": [
    {
     "name": "stdout",
     "output_type": "stream",
     "text": [
      "Shape of the dataframe:  (7998, 11)\n",
      "\n",
      "First three rows of the dataframe:\n",
      "        video_id                                                          title  \\\n",
      "0  XpVt6Z1Gjjo  1 YEAR OF VLOGGING -- HOW LOGAN PAUL CHANGED YOUTUBE FOREVER!   \n",
      "1  K4wEI5zhHB0                        iPhone X — Introducing iPhone X — Apple   \n",
      "2  cLdxuaxaQwc                                                    My Response   \n",
      "\n",
      "      channel_title  category_id  \\\n",
      "0  Logan Paul Vlogs           24   \n",
      "1             Apple           28   \n",
      "2         PewDiePie           22   \n",
      "\n",
      "                                                                                                  tags  \\\n",
      "0  logan paul vlog|logan paul|logan|paul|olympics|logan paul youtube|vlog|daily|comedy|hollywood|pa...   \n",
      "1  Apple|iPhone 10|iPhone Ten|iPhone|Portrait Lighting|A11 Bionic|augmented reality|emoji|animoji|F...   \n",
      "2                                                                                               [none]   \n",
      "\n",
      "     views   likes  dislikes  comment_total  \\\n",
      "0  4394029  320053      5931          46245   \n",
      "1  7860119  185853     26679              0   \n",
      "2  5845909  576597     39774         170708   \n",
      "\n",
      "                                   thumbnail_link   date  \n",
      "0  https://i.ytimg.com/vi/XpVt6Z1Gjjo/default.jpg  13.09  \n",
      "1  https://i.ytimg.com/vi/K4wEI5zhHB0/default.jpg  13.09  \n",
      "2  https://i.ytimg.com/vi/cLdxuaxaQwc/default.jpg  13.09  \n",
      "\n",
      "\n",
      "Column names:\n",
      "  Index(['video_id', 'title', 'channel_title', 'category_id', 'tags', 'views',\n",
      "       'likes', 'dislikes', 'comment_total', 'thumbnail_link', 'date'],\n",
      "      dtype='object')\n"
     ]
    }
   ],
   "source": [
    "us_video_cols = [\"video_id\",\"title\",\"channel_title\",\"category_id\",\"tags\",\"views\",\"likes\",\"dislikes\",\"comment_total\",\"thumbnail_link\",\"date\"]\n",
    "df_us_video = pd.read_csv(\"Data_youtube/USvideos.csv\", usecols=us_video_cols, sep=',', low_memory=False)\n",
    "print(\"Shape of the dataframe: \", df_us_video.shape)\n",
    "print()\n",
    "print(\"First three rows of the dataframe:\\n \", df_us_video.head(3))\n",
    "print()\n",
    "print(\"\\nColumn names:\\n \", df_us_video.columns)"
   ]
  },
  {
   "cell_type": "markdown",
   "metadata": {},
   "source": [
    "#### load UK dataset"
   ]
  },
  {
   "cell_type": "code",
   "execution_count": 3,
   "metadata": {},
   "outputs": [
    {
     "name": "stdout",
     "output_type": "stream",
     "text": [
      "Shape of the UK video dataframe:  (7995, 11)\n",
      "\n",
      "First three rows of the UK video dataframe:\n",
      "        video_id  \\\n",
      "0  jt2OHQh0HoQ   \n",
      "1  AqokkXoa7uE   \n",
      "2  YPVcg45W0z4   \n",
      "\n",
      "                                                                                        title  \\\n",
      "0  Live Apple Event - Apple September Event 2017 - iPhone 8, iPhone X, iOS 11 - Apple Keynote   \n",
      "1                                Holly and Phillip Meet Samantha the Sex Robot | This Morning   \n",
      "2                                                             My DNA Test Results! I'm WHAT?!   \n",
      "\n",
      "  channel_title  category_id  \\\n",
      "0   Apple Event           28   \n",
      "1  This Morning           24   \n",
      "2  emmablackery           24   \n",
      "\n",
      "                                                                                                  tags  \\\n",
      "0             apple events|apple event|iphone 8|iphone x|iphone 8 plus|iphone 7s|iphone 7s plus|ios 11   \n",
      "1  this morning|interview|holly willoughby|phillip schofield|ruth langsford|eamonn holmes|chat show...   \n",
      "2  emmablackery|emma blackery|emma|blackery|british vlogger|british youtuber|female vlogger|birdybo...   \n",
      "\n",
      "     views  likes  dislikes  comment_total  \\\n",
      "0  7426393  78240     13548            705   \n",
      "1   494203   2651      1309              0   \n",
      "2   142819  13119       151           1141   \n",
      "\n",
      "                                        thumbnail_link   date  \n",
      "0  https://i.ytimg.com/vi/jt2OHQh0HoQ/default_live.jpg  13.09  \n",
      "1       https://i.ytimg.com/vi/AqokkXoa7uE/default.jpg  13.09  \n",
      "2       https://i.ytimg.com/vi/YPVcg45W0z4/default.jpg  13.09  \n",
      "\n",
      "\n",
      "Column names of UK video dataframe:\n",
      "  Index(['video_id', 'title', 'channel_title', 'category_id', 'tags', 'views',\n",
      "       'likes', 'dislikes', 'comment_total', 'thumbnail_link', 'date'],\n",
      "      dtype='object')\n"
     ]
    }
   ],
   "source": [
    "uk_video_cols = [\"video_id\",\"title\",\"channel_title\",\"category_id\",\"tags\",\"views\",\"likes\",\"dislikes\",\"comment_total\",\"thumbnail_link\",\"date\"]\n",
    "df_uk_video = pd.read_csv(\"Data_youtube/GBvideos.csv\", usecols=us_video_cols, sep=',', low_memory=False)\n",
    "print(\"Shape of the UK video dataframe: \", df_uk_video.shape)\n",
    "print()\n",
    "print(\"First three rows of the UK video dataframe:\\n \", df_uk_video.head(3))\n",
    "print()\n",
    "print(\"\\nColumn names of UK video dataframe:\\n \", df_us_video.columns)"
   ]
  },
  {
   "cell_type": "code",
   "execution_count": 4,
   "metadata": {},
   "outputs": [
    {
     "name": "stdout",
     "output_type": "stream",
     "text": [
      "Basic statistics of US YouTube views:\n",
      " \n",
      "count    7.998000e+03\n",
      "mean     9.391016e+05\n",
      "std      2.147691e+06\n",
      "min      0.000000e+00\n",
      "25%      9.690000e+04\n",
      "50%      3.086115e+05\n",
      "75%      9.595132e+05\n",
      "max      4.150067e+07\n",
      "Name: views, dtype: float64\n"
     ]
    }
   ],
   "source": [
    "print(\"Basic statistics of US YouTube views:\\n \")\n",
    "print(df_us_video[\"views\"].describe())"
   ]
  },
  {
   "cell_type": "code",
   "execution_count": 5,
   "metadata": {},
   "outputs": [
    {
     "name": "stdout",
     "output_type": "stream",
     "text": [
      "Basic statistics of UK YouTube views:\n",
      " \n",
      "count    7.995000e+03\n",
      "mean     1.110467e+06\n",
      "std      3.048405e+06\n",
      "min      0.000000e+00\n",
      "25%      1.082980e+05\n",
      "50%      3.150910e+05\n",
      "75%      9.710280e+05\n",
      "max      5.896141e+07\n",
      "Name: views, dtype: float64\n"
     ]
    }
   ],
   "source": [
    "print(\"Basic statistics of UK YouTube views:\\n \")\n",
    "print(df_uk_video[\"views\"].describe())"
   ]
  },
  {
   "cell_type": "code",
   "execution_count": 6,
   "metadata": {},
   "outputs": [
    {
     "name": "stderr",
     "output_type": "stream",
     "text": [
      "C:\\Users\\elias\\Anaconda3\\lib\\site-packages\\scipy\\stats\\stats.py:1713: FutureWarning: Using a non-tuple sequence for multidimensional indexing is deprecated; use `arr[tuple(seq)]` instead of `arr[seq]`. In the future this will be interpreted as an array index, `arr[np.array(seq)]`, which will result either in an error or a different result.\n",
      "  return np.add.reduce(sorted[indexer] * weights, axis=axis) / sumval\n"
     ]
    },
    {
     "data": {
      "image/png": "[encoded data removed]",
      "text/plain": [
       "<Figure size 864x432 with 2 Axes>"
      ]
     },
     "metadata": {
      "needs_background": "light"
     },
     "output_type": "display_data"
    }
   ],
   "source": [
    "fig = plt.figure(figsize=(12,6))\n",
    "ax1 = fig.add_subplot(121)\n",
    "sns.distplot(df_us_video.views, hist=True, kde=True, ax = ax1)\n",
    "plt.axvline(x=9.39*1e5, color='r', linewidth=4)\n",
    "plt.text(x=9.90*1e5, y=2.5*1e-7, s=\"mean\", fontsize=12)\n",
    "ax1.set_xlabel(\"Number of US YouTube views\")\n",
    "ax1.set_title(\"Probability distribution of \\nnumber of Youtube views in the US\")\n",
    "ax1.set_ylabel(\"Probability\")\n",
    "ax1.grid(True)\n",
    "\n",
    "ax2 = fig.add_subplot(122)\n",
    "sns.distplot(df_uk_video.views, hist=True, kde=True, ax = ax2, color='r')\n",
    "plt.axvline(x=1.11*1e6, color='blue', linewidth=4)\n",
    "plt.text(x=1.50*1e6, y=1.5*1e-7, s=\"mean\", fontsize=12)\n",
    "ax2.set_title(\"Probability distribution of \\nnumber of Youtube views in the UK\")\n",
    "ax2.set_xlabel(\"Number of UK YouTube views\")\n",
    "ax2.set_ylabel(\"Probability\")\n",
    "ax2.grid(True)\n",
    "plt.tight_layout()"
   ]
  },
  {
   "cell_type": "markdown",
   "metadata": {},
   "source": [
    "* We observe that distribution of both US and UK views are right-skewed. \n",
    "* Few YouTube videos are virul with extermley high number of views.\n",
    "* The mean number of views in the US is 939,102; while the mean number of views in the UK is 1,110,467.\n",
    "* As there are some extreme number of views, standard deviation of both distribuitions are very high.\n",
    "* For the sake of simplicity, we assume that these two distributions are independent. No YouTube views in the UK affect the viewers in the US. This assumption, though, is not perfectly true.  "
   ]
  },
  {
   "cell_type": "markdown",
   "metadata": {},
   "source": [
    "#### Procedure for the hypothesis test"
   ]
  },
  {
   "cell_type": "markdown",
   "metadata": {},
   "source": [
    "* (i) Randomly choose independent samples from the US views and find the mean.\n",
    "* (ii) Randomly choose independent samples from the UK views and find the mean.\n",
    "* (iii) Take the mean difference of these two independent random samples.\n",
    "* (iv) Repeat steps (i) to (iii) for a number of trials. Because of the central limit theorem, we will have a normal distribution of sample mean differences.\n",
    "* (v) Find the 95% confidence interval of this normal distribution and see whether the mean difference of '0' falls inside the interval or outside the interval. \n",
    "* (vi) If '0' falls outside the interval, we reject the null hypothesis that the mean number of views in the US and UK are not significantly difference."
   ]
  },
  {
   "cell_type": "code",
   "execution_count": 7,
   "metadata": {},
   "outputs": [],
   "source": [
    "sampleSize = 3000\n",
    "numTrials = 10000"
   ]
  },
  {
   "cell_type": "code",
   "execution_count": 8,
   "metadata": {},
   "outputs": [],
   "source": [
    "import random"
   ]
  },
  {
   "cell_type": "markdown",
   "metadata": {},
   "source": [
    "#### Some helper functions"
   ]
  },
  {
   "cell_type": "code",
   "execution_count": 9,
   "metadata": {},
   "outputs": [],
   "source": [
    "def choose_random_samples(num_views, sampleSize=2000):\n",
    "    '''\n",
    "    num_views: set of number of views from either US or UK\n",
    "    sampleSize: we choose a random sample with a sampleSize\n",
    "    \n",
    "    return: randomly chosen number of views of sampleSize\n",
    "    '''\n",
    "    return random.sample(num_views, k = sampleSize)\n",
    "\n",
    "\n",
    "def sample_mean_diff(us_sample, uk_sample):\n",
    "    '''\n",
    "    This function returns the mean difference between the US and UK views\n",
    "    '''\n",
    "    return np.mean(us_sample) - np.mean(uk_sample)\n",
    "\n",
    "def sample_std_dev(sample):\n",
    "    '''\n",
    "    This function returns std. dev. of a sample\n",
    "    '''\n",
    "    return np.std(sample)"
   ]
  },
  {
   "cell_type": "code",
   "execution_count": 10,
   "metadata": {},
   "outputs": [],
   "source": [
    "us_views = df_us_video.views\n",
    "uk_views = df_uk_video.views"
   ]
  },
  {
   "cell_type": "markdown",
   "metadata": {},
   "source": [
    "#### Run the simulation"
   ]
  },
  {
   "cell_type": "code",
   "execution_count": 11,
   "metadata": {},
   "outputs": [],
   "source": [
    "def simulate_mean_diff(numTrials, sampleSize, us_views, uk_views):\n",
    "    '''\n",
    "    numTrials: number of iterations we find mean differences\n",
    "    sampleSize: sample size, say 2000 or 3000\n",
    "    us_views: number of US views\n",
    "    uk_views: number of UK views\n",
    "    \n",
    "    return: a list of mean diffrences\n",
    "    '''\n",
    "        \n",
    "    mean_diff_list = []\n",
    "    \n",
    "    for i in range(numTrials):\n",
    "        \n",
    "        us_sample = choose_random_samples(set(us_views), sampleSize)\n",
    "        uk_sample = choose_random_samples(set(uk_views), sampleSize)\n",
    "        \n",
    "        mean_diff = sample_mean_diff(us_sample, uk_sample)\n",
    "        \n",
    "        mean_diff_list.append(mean_diff)\n",
    "        \n",
    "    return mean_diff_list"
   ]
  },
  {
   "cell_type": "code",
   "execution_count": 12,
   "metadata": {},
   "outputs": [],
   "source": [
    "mean_diff_sample = simulate_mean_diff(numTrials, sampleSize, us_views, uk_views)"
   ]
  },
  {
   "cell_type": "code",
   "execution_count": 13,
   "metadata": {},
   "outputs": [
    {
     "name": "stdout",
     "output_type": "stream",
     "text": [
      "\n",
      "The mean of sample mean differences: -170996.15\n",
      "\n",
      "\n",
      "The std. dev. of sample mean differences: 53124.13\n",
      "\n"
     ]
    }
   ],
   "source": [
    "mean_of_sample_mean_diff = np.mean(mean_diff_sample)\n",
    "std_dev_of_sample_mean_diff = np.std(mean_diff_sample)\n",
    "\n",
    "print(\"\\nThe mean of sample mean differences: {}\\n\".format(round(mean_of_sample_mean_diff,2))) \n",
    "print(\"\\nThe std. dev. of sample mean differences: {}\\n\".format(round(std_dev_of_sample_mean_diff,2)))"
   ]
  },
  {
   "cell_type": "code",
   "execution_count": 14,
   "metadata": {},
   "outputs": [
    {
     "name": "stdout",
     "output_type": "stream",
     "text": [
      "\n",
      "95% confidence interval of the mean differnce is between -275119.44 and -66872.87\n",
      "\n"
     ]
    }
   ],
   "source": [
    "confidence_interval_right_end = mean_of_sample_mean_diff + 1.96*std_dev_of_sample_mean_diff\n",
    "confidence_interval_left_end = mean_of_sample_mean_diff - 1.96*std_dev_of_sample_mean_diff\n",
    "print(\"\\n95% confidence interval of the mean differnce is between {} and {}\\n\".format(round(confidence_interval_left_end,2), \\\n",
    "                                                                                  round(confidence_interval_right_end, 2)))"
   ]
  },
  {
   "cell_type": "code",
   "execution_count": 15,
   "metadata": {},
   "outputs": [
    {
     "data": {
      "image/png": "[encoded data removed]",
      "text/plain": [
       "<Figure size 864x360 with 1 Axes>"
      ]
     },
     "metadata": {
      "needs_background": "light"
     },
     "output_type": "display_data"
    }
   ],
   "source": [
    "plt.figure(figsize=(12,5))\n",
    "sns.distplot(mean_diff_sample)\n",
    "plt.axvline(x=0, color='r', linewidth=3)\n",
    "plt.axvline(x=confidence_interval_left_end, color='b')\n",
    "plt.axvline(x=confidence_interval_right_end, color='b')\n",
    "plt.axvline(x=mean_of_sample_mean_diff, color='k')\n",
    "plt.text(x=mean_of_sample_mean_diff, y = 0.000002, s = \"mean\", fontsize=14)\n",
    "plt.title(\"Distribution of mean differences\", fontsize = 14)\n",
    "plt.xlabel(\"Mean difference\")\n",
    "plt.ylabel(\"Probability\")\n",
    "plt.grid(True)\n",
    "plt.show()"
   ]
  },
  {
   "cell_type": "markdown",
   "metadata": {},
   "source": [
    "#### Conclusion:"
   ]
  },
  {
   "cell_type": "markdown",
   "metadata": {},
   "source": [
    "* From the above figure, we observe that mean difference of 0 is outside the 95% confidence internal and falls into the zone of rejection of the null hypothesis.\n",
    "* **We conclude that the mean number of views in the US and UK are statistically significant at 5% confidence level.**\n",
    "\n",
    "\n",
    "* Negative differnce shows that number of Us views are less than the number of UK views. \n",
    "* Recall we assume $\\mu_1$ is the mean number of US views and $\\mu_2$ is the mean number of UK views, and $H_0$: $\\mu_1 - \\mu_2 = 0$."
   ]
  },
  {
   "cell_type": "code",
   "execution_count": null,
   "metadata": {},
   "outputs": [],
   "source": []
  }
 ],
 "metadata": {
  "kernelspec": {
   "display_name": "Python 3",
   "language": "python",
   "name": "python3"
  },
  "language_info": {
   "codemirror_mode": {
    "name": "ipython",
    "version": 3
   },
   "file_extension": ".py",
   "mimetype": "text/x-python",
   "name": "python",
   "nbconvert_exporter": "python",
   "pygments_lexer": "ipython3",
   "version": "3.7.1"
  }
 },
 "nbformat": 4,
 "nbformat_minor": 2
}
